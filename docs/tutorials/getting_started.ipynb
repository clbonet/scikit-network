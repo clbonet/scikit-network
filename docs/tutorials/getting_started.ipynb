{
 "cells": [
  {
   "cell_type": "markdown",
   "metadata": {},
   "source": [
    "# Getting started"
   ]
  },
  {
   "cell_type": "markdown",
   "metadata": {},
   "source": [
    "In scikit-network, graphs are represented by their [adjacency matrix](https://en.wikipedia.org/wiki/Adjacency_matrix) in the [Compressed Sparse Row](https://docs.scipy.org/doc/scipy/reference/generated/scipy.sparse.csr_matrix.html) format of SciPy.\n",
    "\n",
    "In this tutorial, we present a few methods to instantiate such inputs."
   ]
  },
  {
   "cell_type": "code",
   "execution_count": 1,
   "metadata": {
    "jupyter": {
     "outputs_hidden": false
    },
    "pycharm": {
     "name": "#%%\n"
    }
   },
   "outputs": [],
   "source": [
    "from IPython.display import SVG\n",
    "\n",
    "import numpy as np\n",
    "from scipy import sparse\n",
    "\n",
    "from sknetwork.utils import edgelist2adjacency, edgelist2biadjacency\n",
    "from sknetwork.visualization import svg_graph, svg_digraph, svg_bigraph"
   ]
  },
  {
   "cell_type": "markdown",
   "metadata": {},
   "source": [
    "### From a NumPy array\n",
    "For small graphs, you can instantiate the adjacency matrix as a dense NumPy array and convert it into a sparse matrix in CSR format."
   ]
  },
  {
   "cell_type": "code",
   "execution_count": 2,
   "metadata": {
    "jupyter": {
     "outputs_hidden": false
    },
    "pycharm": {
     "name": "#%%\n"
    }
   },
   "outputs": [
    {
     "data": {
      "image/svg+xml": [
       "<svg xmlns=\"http://www.w3.org/2000/svg\" width=\"440\" height=\"340\"><path stroke-width=\"1\" stroke=\"black\" d=\"M 20 106 137 20\"/><path stroke-width=\"1\" stroke=\"black\" d=\"M 182 206 333 188\"/><path stroke-width=\"1\" stroke=\"black\" d=\"M 182 206 20 106\"/><path stroke-width=\"1\" stroke=\"black\" d=\"M 182 206 251 320\"/><path stroke-width=\"1\" stroke=\"black\" d=\"M 182 206 393 290\"/><path stroke-width=\"1\" stroke=\"black\" d=\"M 182 206 62 218\"/><path stroke-width=\"1\" stroke=\"black\" d=\"M 137 20 182 206\"/><path stroke-width=\"1\" stroke=\"black\" d=\"M 137 20 310 29\"/><path stroke-width=\"1\" stroke=\"black\" d=\"M 251 320 333 188\"/><path stroke-width=\"1\" stroke=\"black\" d=\"M 251 320 248 154\"/><path stroke-width=\"1\" stroke=\"black\" d=\"M 248 154 420 130\"/><path stroke-width=\"1\" stroke=\"black\" d=\"M 310 29 333 188\"/><path stroke-width=\"1\" stroke=\"black\" d=\"M 310 29 137 20\"/><path stroke-width=\"1\" stroke=\"black\" d=\"M 310 29 248 154\"/><path stroke-width=\"1\" stroke=\"black\" d=\"M 420 130 333 188\"/><path stroke-width=\"1\" stroke=\"black\" d=\"M 420 130 393 290\"/><path stroke-width=\"1\" stroke=\"black\" d=\"M 420 130 310 29\"/><path stroke-width=\"1\" stroke=\"black\" d=\"M 62 218 20 106\"/><path stroke-width=\"1\" stroke=\"black\" d=\"M 62 218 248 154\"/><circle cx=\"333\" cy=\"188\" r=\"7.0\" style=\"fill:gray;stroke:black;stroke-width:1.0\"/><circle cx=\"20\" cy=\"106\" r=\"7.0\" style=\"fill:gray;stroke:black;stroke-width:1.0\"/><circle cx=\"182\" cy=\"206\" r=\"7.0\" style=\"fill:gray;stroke:black;stroke-width:1.0\"/><circle cx=\"137\" cy=\"20\" r=\"7.0\" style=\"fill:gray;stroke:black;stroke-width:1.0\"/><circle cx=\"251\" cy=\"320\" r=\"7.0\" style=\"fill:gray;stroke:black;stroke-width:1.0\"/><circle cx=\"393\" cy=\"290\" r=\"7.0\" style=\"fill:gray;stroke:black;stroke-width:1.0\"/><circle cx=\"248\" cy=\"154\" r=\"7.0\" style=\"fill:gray;stroke:black;stroke-width:1.0\"/><circle cx=\"310\" cy=\"29\" r=\"7.0\" style=\"fill:gray;stroke:black;stroke-width:1.0\"/><circle cx=\"420\" cy=\"130\" r=\"7.0\" style=\"fill:gray;stroke:black;stroke-width:1.0\"/><circle cx=\"62\" cy=\"218\" r=\"7.0\" style=\"fill:gray;stroke:black;stroke-width:1.0\"/></svg>"
      ],
      "text/plain": [
       "<IPython.core.display.SVG object>"
      ]
     },
     "execution_count": 2,
     "metadata": {},
     "output_type": "execute_result"
    }
   ],
   "source": [
    "adjacency = np.array([[0, 1, 1, 0], [1, 0, 1, 1], [1, 1, 0, 0], [0, 1, 0, 0]])\n",
    "adjacency = sparse.csr_matrix(adjacency)\n",
    "\n",
    "image = svg_graph(adjacency)\n",
    "SVG(image)"
   ]
  },
  {
   "cell_type": "markdown",
   "metadata": {},
   "source": [
    "### From an edge list\n",
    "Another natural way to build a graph is from a list of edges."
   ]
  },
  {
   "cell_type": "code",
   "execution_count": 3,
   "metadata": {
    "jupyter": {
     "outputs_hidden": false
    },
    "pycharm": {
     "name": "#%%\n"
    }
   },
   "outputs": [
    {
     "data": {
      "image/svg+xml": [
       "<svg xmlns=\"http://www.w3.org/2000/svg\" width=\"440\" height=\"340\"><defs><marker id=\"arrow\" markerWidth=\"10\" markerHeight=\"10\" refX=\"9\" refY=\"3\" orient=\"auto\"><path d=\"M0,0 L0,6 L9,3 z\" fill=\"black\"/></marker></defs><path stroke-width=\"1\" stroke=\"black\" d=\"M 420 174 194 317\" marker-end=\"url(#arrow)\"/><path stroke-width=\"1\" stroke=\"black\" d=\"M 420 174 26 164\" marker-end=\"url(#arrow)\"/><path stroke-width=\"1\" stroke=\"black\" d=\"M 189 320 25 168\" marker-end=\"url(#arrow)\"/><path stroke-width=\"1\" stroke=\"black\" d=\"M 20 164 245 23\" marker-end=\"url(#arrow)\"/><path stroke-width=\"1\" stroke=\"black\" d=\"M 250 20 415 170\" marker-end=\"url(#arrow)\"/><circle cx=\"420\" cy=\"174\" r=\"7.0\" style=\"fill:gray;stroke:black;stroke-width:1.0\"/><circle cx=\"189\" cy=\"320\" r=\"7.0\" style=\"fill:gray;stroke:black;stroke-width:1.0\"/><circle cx=\"20\" cy=\"164\" r=\"7.0\" style=\"fill:gray;stroke:black;stroke-width:1.0\"/><circle cx=\"250\" cy=\"20\" r=\"7.0\" style=\"fill:gray;stroke:black;stroke-width:1.0\"/></svg>"
      ],
      "text/plain": [
       "<IPython.core.display.SVG object>"
      ]
     },
     "execution_count": 3,
     "metadata": {},
     "output_type": "execute_result"
    }
   ],
   "source": [
    "edgelist = [(0, 1), (1, 2), (2, 3), (3, 0), (0, 2)]\n",
    "adjacency = edgelist2adjacency(edgelist)\n",
    "\n",
    "image = svg_digraph(adjacency)\n",
    "SVG(image)"
   ]
  },
  {
   "cell_type": "markdown",
   "metadata": {},
   "source": [
    "By default, the graph is treated as directed, but you can easily make it undirected."
   ]
  },
  {
   "cell_type": "code",
   "execution_count": 4,
   "metadata": {
    "jupyter": {
     "outputs_hidden": false
    },
    "pycharm": {
     "name": "#%%\n"
    }
   },
   "outputs": [
    {
     "data": {
      "image/svg+xml": [
       "<svg xmlns=\"http://www.w3.org/2000/svg\" width=\"440\" height=\"340\"><path stroke-width=\"1\" stroke=\"black\" d=\"M 20 173 195 20\"/><path stroke-width=\"1\" stroke=\"black\" d=\"M 20 173 420 166\"/><path stroke-width=\"1\" stroke=\"black\" d=\"M 20 173 244 320\"/><path stroke-width=\"1\" stroke=\"black\" d=\"M 195 20 20 173\"/><path stroke-width=\"1\" stroke=\"black\" d=\"M 195 20 420 166\"/><path stroke-width=\"1\" stroke=\"black\" d=\"M 420 166 20 173\"/><path stroke-width=\"1\" stroke=\"black\" d=\"M 420 166 195 20\"/><path stroke-width=\"1\" stroke=\"black\" d=\"M 420 166 244 320\"/><path stroke-width=\"1\" stroke=\"black\" d=\"M 244 320 20 173\"/><path stroke-width=\"1\" stroke=\"black\" d=\"M 244 320 420 166\"/><circle cx=\"20\" cy=\"173\" r=\"7.0\" style=\"fill:gray;stroke:black;stroke-width:1.0\"/><circle cx=\"195\" cy=\"20\" r=\"7.0\" style=\"fill:gray;stroke:black;stroke-width:1.0\"/><circle cx=\"420\" cy=\"166\" r=\"7.0\" style=\"fill:gray;stroke:black;stroke-width:1.0\"/><circle cx=\"244\" cy=\"320\" r=\"7.0\" style=\"fill:gray;stroke:black;stroke-width:1.0\"/></svg>"
      ],
      "text/plain": [
       "<IPython.core.display.SVG object>"
      ]
     },
     "execution_count": 4,
     "metadata": {},
     "output_type": "execute_result"
    }
   ],
   "source": [
    "adjacency = edgelist2adjacency(edgelist, undirected=True)\n",
    "\n",
    "image = svg_graph(adjacency)\n",
    "SVG(image)"
   ]
  },
  {
   "cell_type": "markdown",
   "metadata": {},
   "source": [
    "You might also want to add weights to your edges. Just use triplets instead of pairs!"
   ]
  },
  {
   "cell_type": "code",
   "execution_count": 5,
   "metadata": {
    "jupyter": {
     "outputs_hidden": false
    },
    "pycharm": {
     "name": "#%%\n"
    }
   },
   "outputs": [
    {
     "data": {
      "image/svg+xml": [
       "<svg xmlns=\"http://www.w3.org/2000/svg\" width=\"440\" height=\"340\"><defs><marker id=\"arrow\" markerWidth=\"10\" markerHeight=\"10\" refX=\"9\" refY=\"3\" orient=\"auto\"><path d=\"M0,0 L0,6 L9,3 z\" fill=\"black\"/></marker></defs><path stroke-width=\"5.25\" stroke=\"black\" d=\"M 51 136 414 22\" marker-end=\"url(#arrow)\"/><path stroke-width=\"10.0\" stroke=\"black\" d=\"M 51 136 382 202\" marker-end=\"url(#arrow)\"/><path stroke-width=\"2.875\" stroke=\"black\" d=\"M 420 20 389 197\" marker-end=\"url(#arrow)\"/><path stroke-width=\"5.25\" stroke=\"black\" d=\"M 388 203 26 318\" marker-end=\"url(#arrow)\"/><path stroke-width=\"2.875\" stroke=\"black\" d=\"M 20 320 50 142\" marker-end=\"url(#arrow)\"/><circle cx=\"51\" cy=\"136\" r=\"7.0\" style=\"fill:gray;stroke:black;stroke-width:1.0\"/><circle cx=\"420\" cy=\"20\" r=\"7.0\" style=\"fill:gray;stroke:black;stroke-width:1.0\"/><circle cx=\"388\" cy=\"203\" r=\"7.0\" style=\"fill:gray;stroke:black;stroke-width:1.0\"/><circle cx=\"20\" cy=\"320\" r=\"7.0\" style=\"fill:gray;stroke:black;stroke-width:1.0\"/></svg>"
      ],
      "text/plain": [
       "<IPython.core.display.SVG object>"
      ]
     },
     "execution_count": 5,
     "metadata": {},
     "output_type": "execute_result"
    }
   ],
   "source": [
    "edgelist = [(0, 1, 1), (1, 2, 0.5), (2, 3, 1), (3, 0, 0.5), (0, 2, 2)]\n",
    "adjacency = edgelist2adjacency(edgelist)\n",
    "\n",
    "image = svg_digraph(adjacency)\n",
    "SVG(image)"
   ]
  },
  {
   "cell_type": "markdown",
   "metadata": {
    "pycharm": {
     "name": "#%% md\n"
    }
   },
   "source": [
    "You can instantiate a bipartite graph as well."
   ]
  },
  {
   "cell_type": "code",
   "execution_count": 6,
   "metadata": {
    "pycharm": {
     "name": "#%%\n"
    }
   },
   "outputs": [
    {
     "data": {
      "image/svg+xml": [
       "<svg xmlns=\"http://www.w3.org/2000/svg\" width=\"440\" height=\"340\"><path stroke-width=\"1\" stroke=\"black\" d=\"M 20 320 420 245\"/><path stroke-width=\"1\" stroke=\"black\" d=\"M 20 20 420 245\"/><path stroke-width=\"1\" stroke=\"black\" d=\"M 20 20 420 95\"/><path stroke-width=\"1\" stroke=\"black\" d=\"M 20 170 420 95\"/><circle cx=\"20\" cy=\"320\" r=\"7.0\" style=\"fill:gray;stroke:black;stroke-width:1.0\"/><circle cx=\"20\" cy=\"20\" r=\"7.0\" style=\"fill:gray;stroke:black;stroke-width:1.0\"/><circle cx=\"20\" cy=\"170\" r=\"7.0\" style=\"fill:gray;stroke:black;stroke-width:1.0\"/><circle cx=\"420\" cy=\"245\" r=\"7.0\" style=\"fill:gray;stroke:black;stroke-width:1.0\"/><circle cx=\"420\" cy=\"95\" r=\"7.0\" style=\"fill:gray;stroke:black;stroke-width:1.0\"/></svg>"
      ],
      "text/plain": [
       "<IPython.core.display.SVG object>"
      ]
     },
     "execution_count": 6,
     "metadata": {},
     "output_type": "execute_result"
    }
   ],
   "source": [
    "edgelist = [(0, 0), (1, 0), (1, 1), (2, 1)]\n",
    "biadjacency = edgelist2biadjacency(edgelist)\n",
    "\n",
    "image = svg_bigraph(biadjacency)\n",
    "SVG(image)"
   ]
  },
  {
   "cell_type": "markdown",
   "metadata": {
    "pycharm": {
     "name": "#%% md\n"
    }
   },
   "source": [
    "### From a NetworkX object\n",
    "NetworkX has [import](https://networkx.github.io/documentation/stable/reference/generated/networkx.convert_matrix.from_scipy_sparse_matrix.html#networkx.convert_matrix.from_scipy_sparse_matrix) and [export](https://networkx.github.io/documentation/stable/reference/generated/networkx.convert_matrix.to_scipy_sparse_matrix.html#networkx.convert_matrix.to_scipy_sparse_matrix) functions from and towards the CSR format."
   ]
  },
  {
   "cell_type": "markdown",
   "metadata": {},
   "source": [
    "### Other options\n",
    "* You have a TSV file containing a list of edges\n",
    "* You have a GraphML file\n",
    "* You want to test our toy graphs\n",
    "* You want to generate a graph from a model\n",
    "* You want to load a graph from one of our referenced repositories (see [NetSets](http://netset.telecom-paris.fr/) and [KONECT](http://konect.cc))\n",
    "\n",
    "Take a look at the tutorials of the **data** section !"
   ]
  }
 ],
 "metadata": {
  "kernelspec": {
   "display_name": "Python 3",
   "language": "python",
   "name": "python3"
  },
  "language_info": {
   "codemirror_mode": {
    "name": "ipython",
    "version": 3
   },
   "file_extension": ".py",
   "mimetype": "text/x-python",
   "name": "python",
   "nbconvert_exporter": "python",
   "pygments_lexer": "ipython3",
   "version": "3.7.4"
  }
 },
 "nbformat": 4,
 "nbformat_minor": 4
}
