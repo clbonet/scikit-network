{
 "cells": [
  {
   "cell_type": "markdown",
   "metadata": {},
   "source": [
    "# Pie-chart nodes\n",
    "\n",
    "Visualization of membership matrices with pie-chart nodes."
   ]
  },
  {
   "cell_type": "code",
   "execution_count": 6,
   "metadata": {},
   "outputs": [],
   "source": [
    "from IPython.display import SVG\n",
    "from scipy import sparse"
   ]
  },
  {
   "cell_type": "code",
   "execution_count": 22,
   "metadata": {},
   "outputs": [],
   "source": [
    "from sknetwork.data import bow_tie, painters\n",
    "from sknetwork.visualization import svg_graph\n",
    "from sknetwork.clustering import Louvain"
   ]
  },
  {
   "cell_type": "markdown",
   "metadata": {},
   "source": [
    "## Graphs"
   ]
  },
  {
   "cell_type": "code",
   "execution_count": 8,
   "metadata": {},
   "outputs": [],
   "source": [
    "graph = bow_tie(True)\n",
    "adjacency = graph.adjacency\n",
    "position = graph.position"
   ]
  },
  {
   "cell_type": "code",
   "execution_count": 19,
   "metadata": {},
   "outputs": [],
   "source": [
    "image = svg_graph(adjacency, position, membership=sparse.csr_matrix([[.5, .5], [0, 1], [0, 1], [1, 0], [1, 0]]), node_size=15)"
   ]
  },
  {
   "cell_type": "code",
   "execution_count": 20,
   "metadata": {},
   "outputs": [
    {
     "data": {
      "image/svg+xml": [
       "<svg height=\"340\" width=\"440\" xmlns=\"http://www.w3.org/2000/svg\">\n",
       "<path d=\"M 220 170 20 20\" stroke=\"black\" stroke-width=\"1\"/>\n",
       "<path d=\"M 220 170 420 20\" stroke=\"black\" stroke-width=\"1\"/>\n",
       "<path d=\"M 220 170 20 320\" stroke=\"black\" stroke-width=\"1\"/>\n",
       "<path d=\"M 220 170 420 320\" stroke=\"black\" stroke-width=\"1\"/>\n",
       "<path d=\"M 20 20 220 170\" stroke=\"black\" stroke-width=\"1\"/>\n",
       "<path d=\"M 20 20 420 20\" stroke=\"black\" stroke-width=\"1\"/>\n",
       "<path d=\"M 420 20 220 170\" stroke=\"black\" stroke-width=\"1\"/>\n",
       "<path d=\"M 420 20 20 20\" stroke=\"black\" stroke-width=\"1\"/>\n",
       "<path d=\"M 20 320 220 170\" stroke=\"black\" stroke-width=\"1\"/>\n",
       "<path d=\"M 20 320 420 320\" stroke=\"black\" stroke-width=\"1\"/>\n",
       "<path d=\"M 420 320 220 170\" stroke=\"black\" stroke-width=\"1\"/>\n",
       "<path d=\"M 420 320 20 320\" stroke=\"black\" stroke-width=\"1\"/>\n",
       "<path d=\"M 235.0 170.0 A 15.0 15.0 0 0 1 205.0 170.0 L 220.0 170.0\" style=\"fill:blue;stroke:black;stroke-width:1.0\"/>\n",
       "<path d=\"M 205.0 170.0 A 15.0 15.0 0 0 1 235.0 170.0 L 220.0 170.0\" style=\"fill:red;stroke:black;stroke-width:1.0\"/>\n",
       "<circle cx=\"20\" cy=\"20\" r=\"15.0\" style=\"fill:red;stroke:black;stroke-width:1.0\"/>\n",
       "<circle cx=\"420\" cy=\"20\" r=\"15.0\" style=\"fill:red;stroke:black;stroke-width:1.0\"/>\n",
       "<circle cx=\"20\" cy=\"320\" r=\"15.0\" style=\"fill:blue;stroke:black;stroke-width:1.0\"/>\n",
       "<circle cx=\"420\" cy=\"320\" r=\"15.0\" style=\"fill:blue;stroke:black;stroke-width:1.0\"/>\n",
       "</svg>"
      ],
      "text/plain": [
       "<IPython.core.display.SVG object>"
      ]
     },
     "execution_count": 20,
     "metadata": {},
     "output_type": "execute_result"
    }
   ],
   "source": [
    "SVG(image)"
   ]
  },
  {
   "cell_type": "markdown",
   "metadata": {},
   "source": [
    "## Digraphs"
   ]
  },
  {
   "cell_type": "code",
   "execution_count": 23,
   "metadata": {},
   "outputs": [],
   "source": [
    "graph = painters(True)\n",
    "adjacency = graph.adjacency\n",
    "names = graph.names"
   ]
  },
  {
   "cell_type": "code",
   "execution_count": 24,
   "metadata": {},
   "outputs": [],
   "source": [
    "louvain = Louvain()\n",
    "louvain.fit(adjacency)\n",
    "membership = louvain.membership_"
   ]
  },
  {
   "cell_type": "code",
   "execution_count": 27,
   "metadata": {},
   "outputs": [],
   "source": [
    "image = svg_graph(adjacency, names=names, membership=membership, node_size=15)"
   ]
  },
  {
   "cell_type": "code",
   "execution_count": 28,
   "metadata": {},
   "outputs": [
    {
     "data": {
      "image/svg+xml": [
       "<svg height=\"340\" width=\"566.0\" xmlns=\"http://www.w3.org/2000/svg\">\n",
       "<path d=\"M 30 152 44 257\" stroke=\"gray\" stroke-width=\"1\"/>\n",
       "<path d=\"M 30 152 86 186\" stroke=\"gray\" stroke-width=\"1\"/>\n",
       "<path d=\"M 70 309 44 257\" stroke=\"gray\" stroke-width=\"1\"/>\n",
       "<path d=\"M 70 309 128 295\" stroke=\"gray\" stroke-width=\"1\"/>\n",
       "<path d=\"M 350 320 420 285\" stroke=\"gray\" stroke-width=\"1\"/>\n",
       "<path d=\"M 44 257 30 152\" stroke=\"gray\" stroke-width=\"1\"/>\n",
       "<path d=\"M 44 257 70 309\" stroke=\"gray\" stroke-width=\"1\"/>\n",
       "<path d=\"M 44 257 173 278\" stroke=\"gray\" stroke-width=\"1\"/>\n",
       "<path d=\"M 44 257 80 233\" stroke=\"gray\" stroke-width=\"1\"/>\n",
       "<path d=\"M 44 257 128 295\" stroke=\"gray\" stroke-width=\"1\"/>\n",
       "<path d=\"M 304 273 350 320\" stroke=\"gray\" stroke-width=\"1\"/>\n",
       "<path d=\"M 304 273 327 221\" stroke=\"gray\" stroke-width=\"1\"/>\n",
       "<path d=\"M 304 273 420 285\" stroke=\"gray\" stroke-width=\"1\"/>\n",
       "<path d=\"M 327 221 350 320\" stroke=\"gray\" stroke-width=\"1\"/>\n",
       "<path d=\"M 327 221 304 273\" stroke=\"gray\" stroke-width=\"1\"/>\n",
       "<path d=\"M 327 221 180 198\" stroke=\"gray\" stroke-width=\"1\"/>\n",
       "<path d=\"M 327 221 420 285\" stroke=\"gray\" stroke-width=\"1\"/>\n",
       "<path d=\"M 20 20 30 152\" stroke=\"gray\" stroke-width=\"1\"/>\n",
       "<path d=\"M 20 20 117 40\" stroke=\"gray\" stroke-width=\"1\"/>\n",
       "<path d=\"M 173 278 70 309\" stroke=\"gray\" stroke-width=\"1\"/>\n",
       "<path d=\"M 173 278 350 320\" stroke=\"gray\" stroke-width=\"1\"/>\n",
       "<path d=\"M 173 278 44 257\" stroke=\"gray\" stroke-width=\"1\"/>\n",
       "<path d=\"M 173 278 180 198\" stroke=\"gray\" stroke-width=\"1\"/>\n",
       "<path d=\"M 173 278 80 233\" stroke=\"gray\" stroke-width=\"1\"/>\n",
       "<path d=\"M 173 278 128 295\" stroke=\"gray\" stroke-width=\"1\"/>\n",
       "<path d=\"M 180 198 30 152\" stroke=\"gray\" stroke-width=\"1\"/>\n",
       "<path d=\"M 180 198 70 309\" stroke=\"gray\" stroke-width=\"1\"/>\n",
       "<path d=\"M 180 198 304 273\" stroke=\"gray\" stroke-width=\"1\"/>\n",
       "<path d=\"M 180 198 327 221\" stroke=\"gray\" stroke-width=\"1\"/>\n",
       "<path d=\"M 180 198 173 278\" stroke=\"gray\" stroke-width=\"1\"/>\n",
       "<path d=\"M 180 198 86 186\" stroke=\"gray\" stroke-width=\"1\"/>\n",
       "<path d=\"M 180 198 80 233\" stroke=\"gray\" stroke-width=\"1\"/>\n",
       "<path d=\"M 420 285 350 320\" stroke=\"gray\" stroke-width=\"1\"/>\n",
       "<path d=\"M 420 285 304 273\" stroke=\"gray\" stroke-width=\"1\"/>\n",
       "<path d=\"M 86 186 30 152\" stroke=\"gray\" stroke-width=\"1\"/>\n",
       "<path d=\"M 86 186 44 257\" stroke=\"gray\" stroke-width=\"1\"/>\n",
       "<path d=\"M 86 186 180 198\" stroke=\"gray\" stroke-width=\"1\"/>\n",
       "<path d=\"M 86 186 80 233\" stroke=\"gray\" stroke-width=\"1\"/>\n",
       "<path d=\"M 86 186 128 295\" stroke=\"gray\" stroke-width=\"1\"/>\n",
       "<path d=\"M 80 233 30 152\" stroke=\"gray\" stroke-width=\"1\"/>\n",
       "<path d=\"M 80 233 70 309\" stroke=\"gray\" stroke-width=\"1\"/>\n",
       "<path d=\"M 80 233 44 257\" stroke=\"gray\" stroke-width=\"1\"/>\n",
       "<path d=\"M 80 233 86 186\" stroke=\"gray\" stroke-width=\"1\"/>\n",
       "<path d=\"M 80 233 128 295\" stroke=\"gray\" stroke-width=\"1\"/>\n",
       "<path d=\"M 128 295 70 309\" stroke=\"gray\" stroke-width=\"1\"/>\n",
       "<path d=\"M 128 295 44 257\" stroke=\"gray\" stroke-width=\"1\"/>\n",
       "<path d=\"M 128 295 304 273\" stroke=\"gray\" stroke-width=\"1\"/>\n",
       "<path d=\"M 128 295 173 278\" stroke=\"gray\" stroke-width=\"1\"/>\n",
       "<path d=\"M 117 40 20 20\" stroke=\"gray\" stroke-width=\"1\"/>\n",
       "<path d=\"M 117 40 180 198\" stroke=\"gray\" stroke-width=\"1\"/>\n",
       "<path d=\"M 45.51716276381496 152.87170714201022 A 15.0 15.0 0 0 1 15.517162763814959 152.87170714201022 L 30.51716276381496 152.87170714201022\" style=\"fill:blue;stroke:black;stroke-width:1.0\"/>\n",
       "<path d=\"M 15.517162763814959 152.87170714201022 A 15.0 15.0 0 0 1 45.51716276381496 152.87170714201022 L 30.51716276381496 152.87170714201022\" style=\"fill:red;stroke:black;stroke-width:1.0\"/>\n",
       "<path d=\"M 45.51716276381496 152.87170714201022 A 15.0 15.0 0 0 1 45.51716276381496 152.87170714201022 L 30.51716276381496 152.87170714201022\" style=\"fill:green;stroke:black;stroke-width:1.0\"/>\n",
       "<circle cx=\"70\" cy=\"309\" r=\"15.0\" style=\"fill:blue;stroke:black;stroke-width:1.0\"/>\n",
       "<circle cx=\"350\" cy=\"320\" r=\"15.0\" style=\"fill:green;stroke:black;stroke-width:1.0\"/>\n",
       "<path d=\"M 59.878803855501204 257.208982211832 A 15.0 15.0 0 1 1 49.51405877112541 242.9431344674047 L 44.878803855501204 257.208982211832\" style=\"fill:blue;stroke:black;stroke-width:1.0\"/>\n",
       "<path d=\"M 49.51405877112541 242.9431344674047 A 15.0 15.0 0 0 1 59.878803855501204 257.208982211832 L 44.878803855501204 257.208982211832\" style=\"fill:red;stroke:black;stroke-width:1.0\"/>\n",
       "<path d=\"M 59.878803855501204 257.208982211832 A 15.0 15.0 0 0 1 59.878803855501204 257.208982211832 L 44.878803855501204 257.208982211832\" style=\"fill:green;stroke:black;stroke-width:1.0\"/>\n",
       "<circle cx=\"304\" cy=\"273\" r=\"15.0\" style=\"fill:green;stroke:black;stroke-width:1.0\"/>\n",
       "<path d=\"M 342.235486634191 221.5731966466188 A 15.0 15.0 0 0 1 342.235486634191 221.5731966466188 L 327.235486634191 221.5731966466188\" style=\"fill:blue;stroke:black;stroke-width:1.0\"/>\n",
       "<path d=\"M 342.235486634191 221.5731966466188 A 15.0 15.0 0 0 1 327.235486634191 236.5731966466188 L 327.235486634191 221.5731966466188\" style=\"fill:red;stroke:black;stroke-width:1.0\"/>\n",
       "<path d=\"M 327.235486634191 236.5731966466188 A 15.0 15.0 0 1 1 342.235486634191 221.5731966466188 L 327.235486634191 221.5731966466188\" style=\"fill:green;stroke:black;stroke-width:1.0\"/>\n",
       "<circle cx=\"20\" cy=\"20\" r=\"15.0\" style=\"fill:red;stroke:black;stroke-width:1.0\"/>\n",
       "<path d=\"M 188.34821782978005 278.1901052017041 A 15.0 15.0 0 1 1 165.84821782978005 265.19972414493753 L 173.34821782978005 278.1901052017041\" style=\"fill:blue;stroke:black;stroke-width:1.0\"/>\n",
       "<path d=\"M 165.84821782978005 265.19972414493753 A 15.0 15.0 0 0 1 180.84821782978005 265.19972414493753 L 173.34821782978005 278.1901052017041\" style=\"fill:red;stroke:black;stroke-width:1.0\"/>\n",
       "<path d=\"M 180.84821782978005 265.19972414493753 A 15.0 15.0 0 0 1 188.34821782978005 278.1901052017041 L 173.34821782978005 278.1901052017041\" style=\"fill:green;stroke:black;stroke-width:1.0\"/>\n",
       "<path d=\"M 195.61965372438124 198.33398107471754 A 15.0 15.0 0 0 1 167.10512070584494 204.8422371614809 L 180.61965372438124 198.33398107471754\" style=\"fill:blue;stroke:black;stroke-width:1.0\"/>\n",
       "<path d=\"M 167.10512070584494 204.8422371614809 A 15.0 15.0 0 0 1 177.2818397150365 183.7100623919902 L 180.61965372438124 198.33398107471754\" style=\"fill:red;stroke:black;stroke-width:1.0\"/>\n",
       "<path d=\"M 177.2818397150365 183.7100623919902 A 15.0 15.0 0 0 1 195.61965372438124 198.33398107471754 L 180.61965372438124 198.33398107471754\" style=\"fill:green;stroke:black;stroke-width:1.0\"/>\n",
       "<circle cx=\"420\" cy=\"285\" r=\"15.0\" style=\"fill:green;stroke:black;stroke-width:1.0\"/>\n",
       "<path d=\"M 101.8742884939053 186.986363731637 A 15.0 15.0 0 1 1 74.7390335782811 178.1695849472499 L 86.8742884939053 186.986363731637\" style=\"fill:blue;stroke:black;stroke-width:1.0\"/>\n",
       "<path d=\"M 74.7390335782811 178.1695849472499 A 15.0 15.0 0 0 1 101.8742884939053 186.986363731637 L 86.8742884939053 186.986363731637\" style=\"fill:red;stroke:black;stroke-width:1.0\"/>\n",
       "<path d=\"M 101.8742884939053 186.986363731637 A 15.0 15.0 0 0 1 101.8742884939053 186.986363731637 L 86.8742884939053 186.986363731637\" style=\"fill:green;stroke:black;stroke-width:1.0\"/>\n",
       "<path d=\"M 95.94957300256071 233.3573993124163 A 15.0 15.0 0 1 1 68.81431808693651 224.5406205280292 L 80.94957300256071 233.3573993124163\" style=\"fill:blue;stroke:black;stroke-width:1.0\"/>\n",
       "<path d=\"M 68.81431808693651 224.5406205280292 A 15.0 15.0 0 0 1 95.94957300256071 233.3573993124163 L 80.94957300256071 233.3573993124163\" style=\"fill:red;stroke:black;stroke-width:1.0\"/>\n",
       "<path d=\"M 95.94957300256071 233.3573993124163 A 15.0 15.0 0 0 1 95.94957300256071 233.3573993124163 L 80.94957300256071 233.3573993124163\" style=\"fill:green;stroke:black;stroke-width:1.0\"/>\n",
       "<path d=\"M 143.07482235561667 295.5444277200149 A 15.0 15.0 0 1 1 128.07482235561667 280.5444277200149 L 128.07482235561667 295.5444277200149\" style=\"fill:blue;stroke:black;stroke-width:1.0\"/>\n",
       "<path d=\"M 128.07482235561667 280.5444277200149 A 15.0 15.0 0 0 1 128.07482235561667 280.5444277200149 L 128.07482235561667 295.5444277200149\" style=\"fill:red;stroke:black;stroke-width:1.0\"/>\n",
       "<path d=\"M 128.07482235561667 280.5444277200149 A 15.0 15.0 0 0 1 143.07482235561667 295.5444277200149 L 128.07482235561667 295.5444277200149\" style=\"fill:green;stroke:black;stroke-width:1.0\"/>\n",
       "<circle cx=\"117\" cy=\"40\" r=\"15.0\" style=\"fill:red;stroke:black;stroke-width:1.0\"/>\n",
       "<text font-size=\"12\" x=\"48\" y=\"167\">Pablo Picasso</text><text font-size=\"12\" x=\"88\" y=\"324\">Claude Monet</text><text font-size=\"12\" x=\"368\" y=\"335\">Michel Angelo</text><text font-size=\"12\" x=\"62\" y=\"272\">Edouard Manet</text><text font-size=\"12\" x=\"322\" y=\"288\">Peter Paul Rubens</text><text font-size=\"12\" x=\"345\" y=\"236\">Rembrandt</text><text font-size=\"12\" x=\"38\" y=\"35\">Gustav Klimt</text><text font-size=\"12\" x=\"191\" y=\"293\">Edgar Degas</text><text font-size=\"12\" x=\"198\" y=\"213\">Vincent van Gogh</text><text font-size=\"12\" x=\"438\" y=\"300\">Leonardo da Vinci</text><text font-size=\"12\" x=\"104\" y=\"201\">Henri Matisse</text><text font-size=\"12\" x=\"98\" y=\"248\">Paul Cezanne</text><text font-size=\"12\" x=\"146\" y=\"310\">Pierre-Auguste Renoir</text><text font-size=\"12\" x=\"135\" y=\"55\">Egon Schiele</text></svg>"
      ],
      "text/plain": [
       "<IPython.core.display.SVG object>"
      ]
     },
     "execution_count": 28,
     "metadata": {},
     "output_type": "execute_result"
    }
   ],
   "source": [
    "SVG(image)"
   ]
  }
 ],
 "metadata": {
  "kernelspec": {
   "display_name": "Python 3",
   "language": "python",
   "name": "python3"
  },
  "language_info": {
   "codemirror_mode": {
    "name": "ipython",
    "version": 3
   },
   "file_extension": ".py",
   "mimetype": "text/x-python",
   "name": "python",
   "nbconvert_exporter": "python",
   "pygments_lexer": "ipython3",
   "version": "3.7.4"
  },
  "pycharm": {
   "stem_cell": {
    "cell_type": "raw",
    "source": [],
    "metadata": {
     "collapsed": false
    }
   }
  }
 },
 "nbformat": 4,
 "nbformat_minor": 2
}
