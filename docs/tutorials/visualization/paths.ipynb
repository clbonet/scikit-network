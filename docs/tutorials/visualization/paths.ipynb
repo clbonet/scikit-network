{
 "cells": [
  {
   "cell_type": "markdown",
   "metadata": {},
   "source": [
    "# Paths"
   ]
  },
  {
   "cell_type": "markdown",
   "metadata": {},
   "source": [
    "Visualization of paths."
   ]
  },
  {
   "cell_type": "code",
   "execution_count": 1,
   "metadata": {},
   "outputs": [],
   "source": [
    "from IPython.display import SVG"
   ]
  },
  {
   "cell_type": "code",
   "execution_count": 45,
   "metadata": {},
   "outputs": [],
   "source": [
    "from sknetwork.data import house, cyclic_digraph, star_wars\n",
    "from sknetwork.visualization import svg_graph, svg_digraph, svg_bigraph"
   ]
  },
  {
   "cell_type": "markdown",
   "metadata": {},
   "source": [
    "## Graphs"
   ]
  },
  {
   "cell_type": "code",
   "execution_count": 3,
   "metadata": {},
   "outputs": [],
   "source": [
    "graph = house(True)\n",
    "adjacency = graph.adjacency\n",
    "position = graph.position"
   ]
  },
  {
   "cell_type": "code",
   "execution_count": 4,
   "metadata": {},
   "outputs": [],
   "source": [
    "image = svg_graph(adjacency, position, edge_width=5, edge_labels=[(0, 1, 0), (1, 2, 0), (2, 3, 0)])"
   ]
  },
  {
   "cell_type": "code",
   "execution_count": 5,
   "metadata": {},
   "outputs": [
    {
     "data": {
      "image/svg+xml": [
       "<svg height=\"340\" width=\"440\" xmlns=\"http://www.w3.org/2000/svg\">\n",
       "<path d=\"M 220 20 20 120\" stroke=\"blue\" stroke-width=\"5\"/>\n",
       "<path d=\"M 220 20 420 120\" stroke=\"black\" stroke-width=\"5\"/>\n",
       "<path d=\"M 20 120 20 320\" stroke=\"blue\" stroke-width=\"5\"/>\n",
       "<path d=\"M 20 120 420 120\" stroke=\"black\" stroke-width=\"5\"/>\n",
       "<path d=\"M 20 320 420 320\" stroke=\"blue\" stroke-width=\"5\"/>\n",
       "<path d=\"M 420 320 420 120\" stroke=\"black\" stroke-width=\"5\"/>\n",
       "<circle cx=\"220\" cy=\"20\" r=\"7.0\" style=\"fill:gray;stroke:black;stroke-width:1.0\"/>\n",
       "<circle cx=\"20\" cy=\"120\" r=\"7.0\" style=\"fill:gray;stroke:black;stroke-width:1.0\"/>\n",
       "<circle cx=\"20\" cy=\"320\" r=\"7.0\" style=\"fill:gray;stroke:black;stroke-width:1.0\"/>\n",
       "<circle cx=\"420\" cy=\"320\" r=\"7.0\" style=\"fill:gray;stroke:black;stroke-width:1.0\"/>\n",
       "<circle cx=\"420\" cy=\"120\" r=\"7.0\" style=\"fill:gray;stroke:black;stroke-width:1.0\"/>\n",
       "</svg>"
      ],
      "text/plain": [
       "<IPython.core.display.SVG object>"
      ]
     },
     "execution_count": 5,
     "metadata": {},
     "output_type": "execute_result"
    }
   ],
   "source": [
    "SVG(image)"
   ]
  },
  {
   "cell_type": "code",
   "execution_count": 8,
   "metadata": {},
   "outputs": [],
   "source": [
    "image = svg_graph(None, position, edge_width=5, edge_labels=[(0, 1, 0), (1, 2, 0), (2, 3, 0)])"
   ]
  },
  {
   "cell_type": "code",
   "execution_count": 9,
   "metadata": {},
   "outputs": [
    {
     "data": {
      "image/svg+xml": [
       "<svg height=\"340\" width=\"440\" xmlns=\"http://www.w3.org/2000/svg\">\n",
       "<defs><marker id=\"arrow\" markerHeight=\"10\" markerWidth=\"10\" orient=\"auto\" refX=\"9\" refY=\"3\">\n",
       "<path d=\"M0,0 L0,6 L9,3 z\" fill=\"None\"/></marker></defs>\n",
       "<path d=\"M 220 20 26 117\" marker-end=\"url(#arrow)\" stroke=\"blue\" stroke-width=\"5\"/>\n",
       "<path d=\"M 20 120 20 313\" marker-end=\"url(#arrow)\" stroke=\"blue\" stroke-width=\"5\"/>\n",
       "<path d=\"M 20 320 413 320\" marker-end=\"url(#arrow)\" stroke=\"blue\" stroke-width=\"5\"/>\n",
       "<circle cx=\"220\" cy=\"20\" r=\"7.0\" style=\"fill:gray;stroke:black;stroke-width:1.0\"/>\n",
       "<circle cx=\"20\" cy=\"120\" r=\"7.0\" style=\"fill:gray;stroke:black;stroke-width:1.0\"/>\n",
       "<circle cx=\"20\" cy=\"320\" r=\"7.0\" style=\"fill:gray;stroke:black;stroke-width:1.0\"/>\n",
       "<circle cx=\"420\" cy=\"320\" r=\"7.0\" style=\"fill:gray;stroke:black;stroke-width:1.0\"/>\n",
       "<circle cx=\"420\" cy=\"120\" r=\"7.0\" style=\"fill:gray;stroke:black;stroke-width:1.0\"/>\n",
       "</svg>"
      ],
      "text/plain": [
       "<IPython.core.display.SVG object>"
      ]
     },
     "execution_count": 9,
     "metadata": {},
     "output_type": "execute_result"
    }
   ],
   "source": [
    "SVG(image)"
   ]
  },
  {
   "cell_type": "markdown",
   "metadata": {},
   "source": [
    "## Digraphs"
   ]
  },
  {
   "cell_type": "code",
   "execution_count": 46,
   "metadata": {},
   "outputs": [],
   "source": [
    "graph = cyclic_digraph(10, metadata=True)\n",
    "adjacency = graph.adjacency\n",
    "position = graph.position"
   ]
  },
  {
   "cell_type": "code",
   "execution_count": 51,
   "metadata": {},
   "outputs": [],
   "source": [
    "path1 = [(0, 1, 0), (1, 2, 0), (2, 3, 0)]\n",
    "path2 = [(6, 7, 1), (7, 8, 1)]"
   ]
  },
  {
   "cell_type": "code",
   "execution_count": 52,
   "metadata": {},
   "outputs": [],
   "source": [
    "image = svg_digraph(adjacency, position, width = 200, height=None, edge_width=5, edge_labels=path1 + path2)"
   ]
  },
  {
   "cell_type": "code",
   "execution_count": 53,
   "metadata": {},
   "outputs": [
    {
     "data": {
      "image/svg+xml": [
       "<svg height=\"230.21130325903073\" width=\"240\" xmlns=\"http://www.w3.org/2000/svg\">\n",
       "<defs><marker id=\"arrow\" markerHeight=\"10\" markerWidth=\"10\" orient=\"auto\" refX=\"9\" refY=\"3\">\n",
       "<path d=\"M0,0 L0,6 L9,3 z\" fill=\"None\"/></marker></defs>\n",
       "<path d=\"M 220 115 202 62\" marker-end=\"url(#arrow)\" stroke=\"blue\" stroke-width=\"5\"/>\n",
       "<path d=\"M 200 56 155 24\" marker-end=\"url(#arrow)\" stroke=\"blue\" stroke-width=\"5\"/>\n",
       "<path d=\"M 150 20 96 20\" marker-end=\"url(#arrow)\" stroke=\"blue\" stroke-width=\"5\"/>\n",
       "<path d=\"M 89 20 44 52\" marker-end=\"url(#arrow)\" stroke=\"black\" stroke-width=\"5\"/>\n",
       "<path d=\"M 39 56 22 109\" marker-end=\"url(#arrow)\" stroke=\"black\" stroke-width=\"5\"/>\n",
       "<path d=\"M 20 115 37 167\" marker-end=\"url(#arrow)\" stroke=\"black\" stroke-width=\"5\"/>\n",
       "<path d=\"M 39 173 84 206\" marker-end=\"url(#arrow)\" stroke=\"red\" stroke-width=\"5\"/>\n",
       "<path d=\"M 89 210 143 210\" marker-end=\"url(#arrow)\" stroke=\"red\" stroke-width=\"5\"/>\n",
       "<path d=\"M 150 210 195 177\" marker-end=\"url(#arrow)\" stroke=\"black\" stroke-width=\"5\"/>\n",
       "<path d=\"M 200 173 218 121\" marker-end=\"url(#arrow)\" stroke=\"black\" stroke-width=\"5\"/>\n",
       "<circle cx=\"220\" cy=\"115\" r=\"7.0\" style=\"fill:gray;stroke:black;stroke-width:1.0\"/>\n",
       "<circle cx=\"200\" cy=\"56\" r=\"7.0\" style=\"fill:gray;stroke:black;stroke-width:1.0\"/>\n",
       "<circle cx=\"150\" cy=\"20\" r=\"7.0\" style=\"fill:gray;stroke:black;stroke-width:1.0\"/>\n",
       "<circle cx=\"89\" cy=\"20\" r=\"7.0\" style=\"fill:gray;stroke:black;stroke-width:1.0\"/>\n",
       "<circle cx=\"39\" cy=\"56\" r=\"7.0\" style=\"fill:gray;stroke:black;stroke-width:1.0\"/>\n",
       "<circle cx=\"20\" cy=\"115\" r=\"7.0\" style=\"fill:gray;stroke:black;stroke-width:1.0\"/>\n",
       "<circle cx=\"39\" cy=\"173\" r=\"7.0\" style=\"fill:gray;stroke:black;stroke-width:1.0\"/>\n",
       "<circle cx=\"89\" cy=\"210\" r=\"7.0\" style=\"fill:gray;stroke:black;stroke-width:1.0\"/>\n",
       "<circle cx=\"150\" cy=\"210\" r=\"7.0\" style=\"fill:gray;stroke:black;stroke-width:1.0\"/>\n",
       "<circle cx=\"200\" cy=\"173\" r=\"7.0\" style=\"fill:gray;stroke:black;stroke-width:1.0\"/>\n",
       "</svg>"
      ],
      "text/plain": [
       "<IPython.core.display.SVG object>"
      ]
     },
     "execution_count": 53,
     "metadata": {},
     "output_type": "execute_result"
    }
   ],
   "source": [
    "SVG(image)"
   ]
  },
  {
   "cell_type": "markdown",
   "metadata": {},
   "source": [
    "## Bigraphs"
   ]
  },
  {
   "cell_type": "code",
   "execution_count": 55,
   "metadata": {},
   "outputs": [],
   "source": [
    "graph = star_wars(True)\n",
    "biadjacency = graph.biadjacency\n",
    "names_row = graph.names_row\n",
    "names_col = graph.names_col"
   ]
  },
  {
   "cell_type": "code",
   "execution_count": 60,
   "metadata": {},
   "outputs": [],
   "source": [
    "path = [(0, 1, 0), (2, 1, 0)]"
   ]
  },
  {
   "cell_type": "code",
   "execution_count": 65,
   "metadata": {},
   "outputs": [],
   "source": [
    "image = svg_bigraph(biadjacency, names_row=names_row, names_col=names_col, edge_width=5, edge_labels=path)"
   ]
  },
  {
   "cell_type": "code",
   "execution_count": 66,
   "metadata": {},
   "outputs": [
    {
     "data": {
      "image/svg+xml": [
       "<svg height=\"340\" width=\"614.0\" xmlns=\"http://www.w3.org/2000/svg\">\n",
       "<path d=\"M 56 120 456 69\" stroke=\"black\" stroke-width=\"5\"/>\n",
       "<path d=\"M 56 120 456 170\" stroke=\"black\" stroke-width=\"5\"/>\n",
       "<path d=\"M 56 20 456 69\" stroke=\"black\" stroke-width=\"5\"/>\n",
       "<path d=\"M 56 320 456 69\" stroke=\"black\" stroke-width=\"5\"/>\n",
       "<path d=\"M 56 320 456 270\" stroke=\"blue\" stroke-width=\"5\"/>\n",
       "<path d=\"M 56 320 456 170\" stroke=\"black\" stroke-width=\"5\"/>\n",
       "<path d=\"M 56 220 456 270\" stroke=\"black\" stroke-width=\"5\"/>\n",
       "<path d=\"M 56 220 456 170\" stroke=\"black\" stroke-width=\"5\"/>\n",
       "<path d=\"M 56 120 456 270\" stroke=\"blue\" stroke-width=\"5\"/>\n",
       "<circle cx=\"56\" cy=\"120\" r=\"7.0\" style=\"fill:gray;stroke:black;stroke-width:1.0\"/>\n",
       "<circle cx=\"56\" cy=\"20\" r=\"7.0\" style=\"fill:gray;stroke:black;stroke-width:1.0\"/>\n",
       "<circle cx=\"56\" cy=\"320\" r=\"7.0\" style=\"fill:gray;stroke:black;stroke-width:1.0\"/>\n",
       "<circle cx=\"56\" cy=\"220\" r=\"7.0\" style=\"fill:gray;stroke:black;stroke-width:1.0\"/>\n",
       "<circle cx=\"456\" cy=\"69\" r=\"7.0\" style=\"fill:gray;stroke:black;stroke-width:1.0\"/>\n",
       "<circle cx=\"456\" cy=\"270\" r=\"7.0\" style=\"fill:gray;stroke:black;stroke-width:1.0\"/>\n",
       "<circle cx=\"456\" cy=\"170\" r=\"7.0\" style=\"fill:gray;stroke:black;stroke-width:1.0\"/>\n",
       "<text font-size=\"12\" text-anchor=\"end\" x=\"46\" y=\"120\">Jabba</text><text font-size=\"12\" text-anchor=\"end\" x=\"46\" y=\"20\">Greedo</text><text font-size=\"12\" text-anchor=\"end\" x=\"46\" y=\"320\">Vador</text><text font-size=\"12\" text-anchor=\"end\" x=\"46\" y=\"220\">Boba</text><text font-size=\"12\" x=\"466\" y=\"69\">A New Hope</text><text font-size=\"12\" x=\"466\" y=\"270\">The Empire Strikes Back</text><text font-size=\"12\" x=\"466\" y=\"170\">Return Of The Jedi</text></svg>"
      ],
      "text/plain": [
       "<IPython.core.display.SVG object>"
      ]
     },
     "execution_count": 66,
     "metadata": {},
     "output_type": "execute_result"
    }
   ],
   "source": [
    "SVG(image)"
   ]
  }
 ],
 "metadata": {
  "kernelspec": {
   "display_name": "Python 3",
   "language": "python",
   "name": "python3"
  },
  "language_info": {
   "codemirror_mode": {
    "name": "ipython",
    "version": 3
   },
   "file_extension": ".py",
   "mimetype": "text/x-python",
   "name": "python",
   "nbconvert_exporter": "python",
   "pygments_lexer": "ipython3",
   "version": "3.7.4"
  }
 },
 "nbformat": 4,
 "nbformat_minor": 2
}
