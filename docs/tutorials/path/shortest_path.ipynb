{
 "cells": [
  {
   "cell_type": "markdown",
   "metadata": {},
   "source": [
    "# Shortest paths"
   ]
  },
  {
   "cell_type": "markdown",
   "metadata": {},
   "source": [
    "This notebook illustrates the search for [shortest paths](https://en.wikipedia.org/wiki/Shortest_path_problem) in graphs."
   ]
  },
  {
   "cell_type": "code",
   "execution_count": 1,
   "metadata": {},
   "outputs": [],
   "source": [
    "from IPython.display import SVG"
   ]
  },
  {
   "cell_type": "code",
   "execution_count": 2,
   "metadata": {
    "ExecuteTime": {
     "end_time": "2019-07-15T12:29:50.554431Z",
     "start_time": "2019-07-15T12:29:50.414075Z"
    }
   },
   "outputs": [],
   "source": [
    "import numpy as np"
   ]
  },
  {
   "cell_type": "code",
   "execution_count": 3,
   "metadata": {},
   "outputs": [],
   "source": [
    "from sknetwork.data import miserables, painters, movie_actor\n",
    "from sknetwork.path import shortest_path\n",
    "from sknetwork.visualization import svg_graph, svg_digraph, svg_bigraph\n",
    "from sknetwork.utils import bipartite2undirected"
   ]
  },
  {
   "cell_type": "markdown",
   "metadata": {},
   "source": [
    "## Graphs"
   ]
  },
  {
   "cell_type": "code",
   "execution_count": 4,
   "metadata": {
    "ExecuteTime": {
     "end_time": "2019-07-15T12:29:51.261957Z",
     "start_time": "2019-07-15T12:29:51.249107Z"
    }
   },
   "outputs": [],
   "source": [
    "graph = miserables(metadata=True)\n",
    "adjacency = graph.adjacency\n",
    "names = graph.names\n",
    "position = graph.position"
   ]
  },
  {
   "cell_type": "code",
   "execution_count": 5,
   "metadata": {},
   "outputs": [],
   "source": [
    "napoleon = 1\n",
    "jondrette = 46"
   ]
  },
  {
   "cell_type": "code",
   "execution_count": 6,
   "metadata": {},
   "outputs": [],
   "source": [
    "path = shortest_path(adjacency, sources=napoleon, targets=jondrette)"
   ]
  },
  {
   "cell_type": "code",
   "execution_count": 7,
   "metadata": {},
   "outputs": [],
   "source": [
    "edge_labels = [(path[k], path[k + 1], 0) for k in range(len(path) - 1)]"
   ]
  },
  {
   "cell_type": "code",
   "execution_count": 10,
   "metadata": {
    "ExecuteTime": {
     "end_time": "2019-07-15T12:29:55.341520Z",
     "start_time": "2019-07-15T12:29:55.026465Z"
    },
    "scrolled": true
   },
   "outputs": [],
   "source": [
    "image = svg_graph(adjacency, position, names, edge_labels=edge_labels, edge_width=3, display_edge_weight=False, scale = 1.5)"
   ]
  },
  {
   "cell_type": "code",
   "execution_count": 11,
   "metadata": {},
   "outputs": [
    {
     "data": {
      "image/svg+xml": [
       "<svg height=\"510.0\" width=\"813.0\" xmlns=\"http://www.w3.org/2000/svg\">\n",
       "<path d=\"M 245 267 220 284\" stroke=\"gray\" stroke-width=\"3\"/>\n",
       "<path d=\"M 174 306 94 357\" stroke=\"gray\" stroke-width=\"3\"/>\n",
       "<path d=\"M 174 306 205 289\" stroke=\"gray\" stroke-width=\"3\"/>\n",
       "<path d=\"M 174 306 226 275\" stroke=\"gray\" stroke-width=\"3\"/>\n",
       "<path d=\"M 174 306 193 278\" stroke=\"gray\" stroke-width=\"3\"/>\n",
       "<path d=\"M 174 306 220 270\" stroke=\"gray\" stroke-width=\"3\"/>\n",
       "<path d=\"M 174 306 202 270\" stroke=\"gray\" stroke-width=\"3\"/>\n",
       "<path d=\"M 174 306 220 284\" stroke=\"gray\" stroke-width=\"3\"/>\n",
       "<path d=\"M 174 306 245 267\" stroke=\"gray\" stroke-width=\"3\"/>\n",
       "<path d=\"M 282 278 205 289\" stroke=\"gray\" stroke-width=\"3\"/>\n",
       "<path d=\"M 282 278 226 275\" stroke=\"gray\" stroke-width=\"3\"/>\n",
       "<path d=\"M 282 278 193 278\" stroke=\"gray\" stroke-width=\"3\"/>\n",
       "<path d=\"M 282 278 220 270\" stroke=\"gray\" stroke-width=\"3\"/>\n",
       "<path d=\"M 282 278 202 270\" stroke=\"gray\" stroke-width=\"3\"/>\n",
       "<path d=\"M 282 278 220 284\" stroke=\"gray\" stroke-width=\"3\"/>\n",
       "<path d=\"M 282 278 245 267\" stroke=\"gray\" stroke-width=\"3\"/>\n",
       "<path d=\"M 282 278 174 306\" stroke=\"gray\" stroke-width=\"3\"/>\n",
       "<path d=\"M 245 267 190 298\" stroke=\"gray\" stroke-width=\"3\"/>\n",
       "<path d=\"M 245 267 202 270\" stroke=\"gray\" stroke-width=\"3\"/>\n",
       "<path d=\"M 245 267 220 270\" stroke=\"gray\" stroke-width=\"3\"/>\n",
       "<path d=\"M 245 267 193 278\" stroke=\"gray\" stroke-width=\"3\"/>\n",
       "<path d=\"M 190 298 174 275\" stroke=\"gray\" stroke-width=\"3\"/>\n",
       "<path d=\"M 190 298 205 289\" stroke=\"gray\" stroke-width=\"3\"/>\n",
       "<path d=\"M 190 298 226 275\" stroke=\"gray\" stroke-width=\"3\"/>\n",
       "<path d=\"M 190 298 193 278\" stroke=\"gray\" stroke-width=\"3\"/>\n",
       "<path d=\"M 190 298 220 270\" stroke=\"gray\" stroke-width=\"3\"/>\n",
       "<path d=\"M 190 298 202 270\" stroke=\"gray\" stroke-width=\"3\"/>\n",
       "<path d=\"M 220 284 174 275\" stroke=\"gray\" stroke-width=\"3\"/>\n",
       "<path d=\"M 282 278 248 401\" stroke=\"gray\" stroke-width=\"3\"/>\n",
       "<path d=\"M 220 284 205 289\" stroke=\"gray\" stroke-width=\"3\"/>\n",
       "<path d=\"M 220 284 193 278\" stroke=\"gray\" stroke-width=\"3\"/>\n",
       "<path d=\"M 220 284 220 270\" stroke=\"gray\" stroke-width=\"3\"/>\n",
       "<path d=\"M 220 284 202 270\" stroke=\"gray\" stroke-width=\"3\"/>\n",
       "<path d=\"M 220 284 190 298\" stroke=\"gray\" stroke-width=\"3\"/>\n",
       "<path d=\"M 245 267 143 287\" stroke=\"gray\" stroke-width=\"3\"/>\n",
       "<path d=\"M 245 267 316 197\" stroke=\"gray\" stroke-width=\"3\"/>\n",
       "<path d=\"M 245 267 174 275\" stroke=\"gray\" stroke-width=\"3\"/>\n",
       "<path d=\"M 245 267 205 289\" stroke=\"gray\" stroke-width=\"3\"/>\n",
       "<path d=\"M 245 267 226 275\" stroke=\"gray\" stroke-width=\"3\"/>\n",
       "<path d=\"M 220 284 226 275\" stroke=\"gray\" stroke-width=\"3\"/>\n",
       "<path d=\"M 208 242 91 220\" stroke=\"gray\" stroke-width=\"3\"/>\n",
       "<path d=\"M 208 242 88 242\" stroke=\"gray\" stroke-width=\"3\"/>\n",
       "<path d=\"M 208 242 291 178\" stroke=\"gray\" stroke-width=\"3\"/>\n",
       "<path d=\"M 208 242 291 206\" stroke=\"gray\" stroke-width=\"3\"/>\n",
       "<path d=\"M 208 242 297 192\" stroke=\"gray\" stroke-width=\"3\"/>\n",
       "<path d=\"M 208 242 174 275\" stroke=\"gray\" stroke-width=\"3\"/>\n",
       "<path d=\"M 208 242 205 289\" stroke=\"gray\" stroke-width=\"3\"/>\n",
       "<path d=\"M 208 242 226 275\" stroke=\"gray\" stroke-width=\"3\"/>\n",
       "<path d=\"M 208 242 193 278\" stroke=\"gray\" stroke-width=\"3\"/>\n",
       "<path d=\"M 208 242 220 270\" stroke=\"gray\" stroke-width=\"3\"/>\n",
       "<path d=\"M 208 242 202 270\" stroke=\"gray\" stroke-width=\"3\"/>\n",
       "<path d=\"M 208 242 190 298\" stroke=\"gray\" stroke-width=\"3\"/>\n",
       "<path d=\"M 208 242 220 284\" stroke=\"gray\" stroke-width=\"3\"/>\n",
       "<path d=\"M 208 242 245 267\" stroke=\"gray\" stroke-width=\"3\"/>\n",
       "<path d=\"M 208 242 174 306\" stroke=\"gray\" stroke-width=\"3\"/>\n",
       "<path d=\"M 208 242 282 278\" stroke=\"gray\" stroke-width=\"3\"/>\n",
       "<path d=\"M 208 242 266 175\" stroke=\"gray\" stroke-width=\"3\"/>\n",
       "<path d=\"M 208 242 143 287\" stroke=\"gray\" stroke-width=\"3\"/>\n",
       "<path d=\"M 303 370 282 278\" stroke=\"gray\" stroke-width=\"3\"/>\n",
       "<path d=\"M 306 337 303 370\" stroke=\"gray\" stroke-width=\"3\"/>\n",
       "<path d=\"M 306 337 285 480\" stroke=\"gray\" stroke-width=\"3\"/>\n",
       "<path d=\"M 306 337 334 449\" stroke=\"gray\" stroke-width=\"3\"/>\n",
       "<path d=\"M 297 315 248 401\" stroke=\"gray\" stroke-width=\"3\"/>\n",
       "<path d=\"M 297 315 282 278\" stroke=\"gray\" stroke-width=\"3\"/>\n",
       "<path d=\"M 297 315 303 370\" stroke=\"gray\" stroke-width=\"3\"/>\n",
       "<path d=\"M 297 315 306 337\" stroke=\"gray\" stroke-width=\"3\"/>\n",
       "<path d=\"M 297 315 266 370\" stroke=\"gray\" stroke-width=\"3\"/>\n",
       "<path d=\"M 306 337 282 278\" stroke=\"gray\" stroke-width=\"3\"/>\n",
       "<path d=\"M 202 270 220 270\" stroke=\"gray\" stroke-width=\"3\"/>\n",
       "<path d=\"M 291 206 266 175\" stroke=\"gray\" stroke-width=\"3\"/>\n",
       "<path d=\"M 291 206 291 178\" stroke=\"gray\" stroke-width=\"3\"/>\n",
       "<path d=\"M 291 206 316 197\" stroke=\"gray\" stroke-width=\"3\"/>\n",
       "<path d=\"M 297 192 266 175\" stroke=\"gray\" stroke-width=\"3\"/>\n",
       "<path d=\"M 297 192 291 178\" stroke=\"gray\" stroke-width=\"3\"/>\n",
       "<path d=\"M 297 192 316 197\" stroke=\"gray\" stroke-width=\"3\"/>\n",
       "<path d=\"M 297 192 291 206\" stroke=\"gray\" stroke-width=\"3\"/>\n",
       "<path d=\"M 316 197 291 178\" stroke=\"gray\" stroke-width=\"3\"/>\n",
       "<path d=\"M 316 197 266 175\" stroke=\"gray\" stroke-width=\"3\"/>\n",
       "<path d=\"M 174 275 143 287\" stroke=\"gray\" stroke-width=\"3\"/>\n",
       "<path d=\"M 291 178 266 175\" stroke=\"gray\" stroke-width=\"3\"/>\n",
       "<path d=\"M 88 242 91 220\" stroke=\"gray\" stroke-width=\"3\"/>\n",
       "<path d=\"M 193 278 174 275\" stroke=\"gray\" stroke-width=\"3\"/>\n",
       "<path d=\"M 193 278 205 289\" stroke=\"gray\" stroke-width=\"3\"/>\n",
       "<path d=\"M 193 278 226 275\" stroke=\"gray\" stroke-width=\"3\"/>\n",
       "<path d=\"M 220 270 143 287\" stroke=\"gray\" stroke-width=\"3\"/>\n",
       "<path d=\"M 220 270 174 275\" stroke=\"gray\" stroke-width=\"3\"/>\n",
       "<path d=\"M 193 278 143 287\" stroke=\"gray\" stroke-width=\"3\"/>\n",
       "<path d=\"M 220 270 205 289\" stroke=\"gray\" stroke-width=\"3\"/>\n",
       "<path d=\"M 220 270 193 278\" stroke=\"gray\" stroke-width=\"3\"/>\n",
       "<path d=\"M 202 270 174 275\" stroke=\"gray\" stroke-width=\"3\"/>\n",
       "<path d=\"M 202 270 205 289\" stroke=\"gray\" stroke-width=\"3\"/>\n",
       "<path d=\"M 202 270 226 275\" stroke=\"gray\" stroke-width=\"3\"/>\n",
       "<path d=\"M 202 270 193 278\" stroke=\"gray\" stroke-width=\"3\"/>\n",
       "<path d=\"M 220 270 226 275\" stroke=\"gray\" stroke-width=\"3\"/>\n",
       "<path d=\"M 205 289 143 287\" stroke=\"gray\" stroke-width=\"3\"/>\n",
       "<path d=\"M 205 289 174 275\" stroke=\"gray\" stroke-width=\"3\"/>\n",
       "<path d=\"M 226 275 143 287\" stroke=\"gray\" stroke-width=\"3\"/>\n",
       "<path d=\"M 226 275 174 275\" stroke=\"gray\" stroke-width=\"3\"/>\n",
       "<path d=\"M 226 275 205 289\" stroke=\"gray\" stroke-width=\"3\"/>\n",
       "<path d=\"M 266 228 266 175\" stroke=\"gray\" stroke-width=\"3\"/>\n",
       "<path d=\"M 180 169 211 147\" stroke=\"gray\" stroke-width=\"3\"/>\n",
       "<path d=\"M 180 169 208 158\" stroke=\"gray\" stroke-width=\"3\"/>\n",
       "<path d=\"M 180 169 196 169\" stroke=\"gray\" stroke-width=\"3\"/>\n",
       "<path d=\"M 193 147 260 203\" stroke=\"gray\" stroke-width=\"3\"/>\n",
       "<path d=\"M 193 147 211 147\" stroke=\"gray\" stroke-width=\"3\"/>\n",
       "<path d=\"M 193 147 208 158\" stroke=\"gray\" stroke-width=\"3\"/>\n",
       "<path d=\"M 193 147 196 169\" stroke=\"gray\" stroke-width=\"3\"/>\n",
       "<path d=\"M 193 147 180 169\" stroke=\"gray\" stroke-width=\"3\"/>\n",
       "<path d=\"M 180 155 260 203\" stroke=\"gray\" stroke-width=\"3\"/>\n",
       "<path d=\"M 180 155 211 147\" stroke=\"gray\" stroke-width=\"3\"/>\n",
       "<path d=\"M 180 155 208 158\" stroke=\"gray\" stroke-width=\"3\"/>\n",
       "<path d=\"M 180 155 196 169\" stroke=\"gray\" stroke-width=\"3\"/>\n",
       "<path d=\"M 180 155 180 169\" stroke=\"gray\" stroke-width=\"3\"/>\n",
       "<path d=\"M 180 155 193 147\" stroke=\"gray\" stroke-width=\"3\"/>\n",
       "<path d=\"M 214 183 282 278\" stroke=\"gray\" stroke-width=\"3\"/>\n",
       "<path d=\"M 214 183 319 273\" stroke=\"gray\" stroke-width=\"3\"/>\n",
       "<path d=\"M 214 183 260 203\" stroke=\"gray\" stroke-width=\"3\"/>\n",
       "<path d=\"M 214 183 211 147\" stroke=\"gray\" stroke-width=\"3\"/>\n",
       "<path d=\"M 214 183 208 158\" stroke=\"gray\" stroke-width=\"3\"/>\n",
       "<path d=\"M 214 183 196 169\" stroke=\"gray\" stroke-width=\"3\"/>\n",
       "<path d=\"M 214 183 180 169\" stroke=\"gray\" stroke-width=\"3\"/>\n",
       "<path d=\"M 180 169 260 203\" stroke=\"gray\" stroke-width=\"3\"/>\n",
       "<path d=\"M 260 203 303 239\" stroke=\"gray\" stroke-width=\"3\"/>\n",
       "<path d=\"M 211 147 260 203\" stroke=\"gray\" stroke-width=\"3\"/>\n",
       "<path d=\"M 214 183 193 147\" stroke=\"gray\" stroke-width=\"3\"/>\n",
       "<path d=\"M 208 158 260 203\" stroke=\"gray\" stroke-width=\"3\"/>\n",
       "<path d=\"M 208 158 211 147\" stroke=\"gray\" stroke-width=\"3\"/>\n",
       "<path d=\"M 196 169 260 203\" stroke=\"gray\" stroke-width=\"3\"/>\n",
       "<path d=\"M 196 169 211 147\" stroke=\"gray\" stroke-width=\"3\"/>\n",
       "<path d=\"M 196 169 208 158\" stroke=\"gray\" stroke-width=\"3\"/>\n",
       "<path d=\"M 214 183 180 155\" stroke=\"gray\" stroke-width=\"3\"/>\n",
       "<path d=\"M 350 250 411 382\" stroke=\"gray\" stroke-width=\"3\"/>\n",
       "<path d=\"M 350 250 322 136\" stroke=\"gray\" stroke-width=\"3\"/>\n",
       "<path d=\"M 479 150 350 250\" stroke=\"gray\" stroke-width=\"3\"/>\n",
       "<path d=\"M 350 250 436 116\" stroke=\"gray\" stroke-width=\"3\"/>\n",
       "<path d=\"M 445 309 350 250\" stroke=\"gray\" stroke-width=\"3\"/>\n",
       "<path d=\"M 448 298 350 250\" stroke=\"gray\" stroke-width=\"3\"/>\n",
       "<path d=\"M 448 298 445 309\" stroke=\"gray\" stroke-width=\"3\"/>\n",
       "<path d=\"M 485 323 630 312\" stroke=\"gray\" stroke-width=\"3\"/>\n",
       "<path d=\"M 485 323 562 365\" stroke=\"gray\" stroke-width=\"3\"/>\n",
       "<path d=\"M 485 323 550 440\" stroke=\"gray\" stroke-width=\"3\"/>\n",
       "<path d=\"M 485 323 580 426\" stroke=\"gray\" stroke-width=\"3\"/>\n",
       "<path d=\"M 485 323 605 404\" stroke=\"gray\" stroke-width=\"3\"/>\n",
       "<path d=\"M 485 323 630 345\" stroke=\"gray\" stroke-width=\"3\"/>\n",
       "<path d=\"M 485 323 445 309\" stroke=\"gray\" stroke-width=\"3\"/>\n",
       "<path d=\"M 485 323 448 298\" stroke=\"gray\" stroke-width=\"3\"/>\n",
       "<path d=\"M 350 250 448 359\" stroke=\"gray\" stroke-width=\"3\"/>\n",
       "<path d=\"M 350 250 303 239\" stroke=\"gray\" stroke-width=\"3\"/>\n",
       "<path d=\"M 322 136 260 203\" stroke=\"gray\" stroke-width=\"3\"/>\n",
       "<path d=\"M 350 250 365 315\" stroke=\"gray\" stroke-width=\"3\"/>\n",
       "<path d=\"M 350 250 291 178\" stroke=\"gray\" stroke-width=\"3\"/>\n",
       "<path d=\"M 350 250 316 197\" stroke=\"gray\" stroke-width=\"3\"/>\n",
       "<path d=\"M 350 250 291 206\" stroke=\"gray\" stroke-width=\"3\"/>\n",
       "<path d=\"M 350 250 297 192\" stroke=\"gray\" stroke-width=\"3\"/>\n",
       "<path d=\"M 350 250 226 275\" stroke=\"gray\" stroke-width=\"3\"/>\n",
       "<path d=\"M 350 250 245 267\" stroke=\"gray\" stroke-width=\"3\"/>\n",
       "<path d=\"M 350 250 282 278\" stroke=\"gray\" stroke-width=\"3\"/>\n",
       "<path d=\"M 350 250 306 337\" stroke=\"gray\" stroke-width=\"3\"/>\n",
       "<path d=\"M 350 250 297 315\" stroke=\"gray\" stroke-width=\"3\"/>\n",
       "<path d=\"M 350 250 260 203\" stroke=\"gray\" stroke-width=\"3\"/>\n",
       "<path d=\"M 350 250 479 245\" stroke=\"gray\" stroke-width=\"3\"/>\n",
       "<path d=\"M 350 250 429 183\" stroke=\"gray\" stroke-width=\"3\"/>\n",
       "<path d=\"M 350 250 436 200\" stroke=\"gray\" stroke-width=\"3\"/>\n",
       "<path d=\"M 350 250 411 172\" stroke=\"gray\" stroke-width=\"3\"/>\n",
       "<path d=\"M 350 250 402 194\" stroke=\"gray\" stroke-width=\"3\"/>\n",
       "<path d=\"M 350 250 411 211\" stroke=\"gray\" stroke-width=\"3\"/>\n",
       "<path d=\"M 350 250 411 270\" stroke=\"gray\" stroke-width=\"3\"/>\n",
       "<path d=\"M 350 250 500 192\" stroke=\"gray\" stroke-width=\"3\"/>\n",
       "<path d=\"M 350 250 291 287\" stroke=\"gray\" stroke-width=\"3\"/>\n",
       "<path d=\"M 350 250 374 192\" stroke=\"gray\" stroke-width=\"3\"/>\n",
       "<path d=\"M 350 250 423 242\" stroke=\"gray\" stroke-width=\"3\"/>\n",
       "<path d=\"M 350 250 316 242\" stroke=\"gray\" stroke-width=\"3\"/>\n",
       "<path d=\"M 350 250 319 273\" stroke=\"gray\" stroke-width=\"3\"/>\n",
       "<path d=\"M 350 250 310 220\" stroke=\"gray\" stroke-width=\"3\"/>\n",
       "<path d=\"M 350 250 383 284\" stroke=\"gray\" stroke-width=\"3\"/>\n",
       "<path d=\"M 260 203 316 242\" stroke=\"gray\" stroke-width=\"3\"/>\n",
       "<path d=\"M 260 203 310 220\" stroke=\"gray\" stroke-width=\"3\"/>\n",
       "<path d=\"M 260 203 233 331\" stroke=\"gray\" stroke-width=\"3\"/>\n",
       "<path d=\"M 402 194 429 183\" stroke=\"gray\" stroke-width=\"3\"/>\n",
       "<path d=\"M 402 194 436 200\" stroke=\"gray\" stroke-width=\"3\"/>\n",
       "<path d=\"M 402 194 411 172\" stroke=\"gray\" stroke-width=\"3\"/>\n",
       "<path d=\"M 411 211 429 183\" stroke=\"gray\" stroke-width=\"3\"/>\n",
       "<path d=\"M 411 211 436 200\" stroke=\"gray\" stroke-width=\"3\"/>\n",
       "<path d=\"M 411 211 411 172\" stroke=\"gray\" stroke-width=\"3\"/>\n",
       "<path d=\"M 411 211 402 194\" stroke=\"gray\" stroke-width=\"3\"/>\n",
       "<path d=\"M 233 331 291 287\" stroke=\"gray\" stroke-width=\"3\"/>\n",
       "<path d=\"M 374 192 429 183\" stroke=\"gray\" stroke-width=\"3\"/>\n",
       "<path d=\"M 374 192 436 200\" stroke=\"gray\" stroke-width=\"3\"/>\n",
       "<path d=\"M 374 192 411 172\" stroke=\"gray\" stroke-width=\"3\"/>\n",
       "<path d=\"M 374 192 402 194\" stroke=\"gray\" stroke-width=\"3\"/>\n",
       "<path d=\"M 374 192 411 211\" stroke=\"gray\" stroke-width=\"3\"/>\n",
       "<path d=\"M 260 203 374 192\" stroke=\"gray\" stroke-width=\"3\"/>\n",
       "<path d=\"M 411 172 436 200\" stroke=\"gray\" stroke-width=\"3\"/>\n",
       "<path d=\"M 266 228 291 178\" stroke=\"gray\" stroke-width=\"3\"/>\n",
       "<path d=\"M 266 228 316 197\" stroke=\"gray\" stroke-width=\"3\"/>\n",
       "<path d=\"M 266 228 291 206\" stroke=\"gray\" stroke-width=\"3\"/>\n",
       "<path d=\"M 266 228 297 192\" stroke=\"gray\" stroke-width=\"3\"/>\n",
       "<path d=\"M 266 228 220 270\" stroke=\"gray\" stroke-width=\"3\"/>\n",
       "<path d=\"M 266 228 174 306\" stroke=\"gray\" stroke-width=\"3\"/>\n",
       "<path d=\"M 266 228 282 278\" stroke=\"gray\" stroke-width=\"3\"/>\n",
       "<path d=\"M 266 228 294 152\" stroke=\"gray\" stroke-width=\"3\"/>\n",
       "<path d=\"M 334 359 282 278\" stroke=\"gray\" stroke-width=\"3\"/>\n",
       "<path d=\"M 334 359 334 449\" stroke=\"gray\" stroke-width=\"3\"/>\n",
       "<path d=\"M 436 200 429 183\" stroke=\"gray\" stroke-width=\"3\"/>\n",
       "<path d=\"M 411 172 429 183\" stroke=\"gray\" stroke-width=\"3\"/>\n",
       "<path d=\"M 423 242 537 225\" stroke=\"gray\" stroke-width=\"3\"/>\n",
       "<path d=\"M 310 220 266 175\" stroke=\"gray\" stroke-width=\"3\"/>\n",
       "<path d=\"M 310 220 291 178\" stroke=\"gray\" stroke-width=\"3\"/>\n",
       "<path d=\"M 310 220 316 197\" stroke=\"gray\" stroke-width=\"3\"/>\n",
       "<path d=\"M 310 220 291 206\" stroke=\"gray\" stroke-width=\"3\"/>\n",
       "<path d=\"M 310 220 297 192\" stroke=\"gray\" stroke-width=\"3\"/>\n",
       "<path d=\"M 310 220 282 278\" stroke=\"gray\" stroke-width=\"3\"/>\n",
       "<path d=\"M 310 220 208 242\" stroke=\"gray\" stroke-width=\"3\"/>\n",
       "<path d=\"M 310 220 294 152\" stroke=\"gray\" stroke-width=\"3\"/>\n",
       "<path d=\"M 310 220 266 228\" stroke=\"gray\" stroke-width=\"3\"/>\n",
       "<path d=\"M 310 220 319 66\" stroke=\"gray\" stroke-width=\"3\"/>\n",
       "<path d=\"M 310 220 334 359\" stroke=\"gray\" stroke-width=\"3\"/>\n",
       "<path d=\"M 310 220 316 242\" stroke=\"gray\" stroke-width=\"3\"/>\n",
       "<path d=\"M 310 220 319 273\" stroke=\"gray\" stroke-width=\"3\"/>\n",
       "<path d=\"M 303 239 316 197\" stroke=\"gray\" stroke-width=\"3\"/>\n",
       "<path d=\"M 303 239 291 206\" stroke=\"gray\" stroke-width=\"3\"/>\n",
       "<path d=\"M 303 239 297 192\" stroke=\"gray\" stroke-width=\"3\"/>\n",
       "<path d=\"M 303 239 266 370\" stroke=\"gray\" stroke-width=\"3\"/>\n",
       "<path d=\"M 303 239 294 152\" stroke=\"gray\" stroke-width=\"3\"/>\n",
       "<path d=\"M 303 239 266 228\" stroke=\"gray\" stroke-width=\"3\"/>\n",
       "<path d=\"M 303 239 316 242\" stroke=\"gray\" stroke-width=\"3\"/>\n",
       "<path d=\"M 303 239 319 273\" stroke=\"gray\" stroke-width=\"3\"/>\n",
       "<path d=\"M 303 239 310 220\" stroke=\"gray\" stroke-width=\"3\"/>\n",
       "<path d=\"M 260 203 291 287\" stroke=\"gray\" stroke-width=\"3\"/>\n",
       "<path d=\"M 423 242 479 245\" stroke=\"gray\" stroke-width=\"3\"/>\n",
       "<path d=\"M 316 242 365 315\" stroke=\"gray\" stroke-width=\"3\"/>\n",
       "<path d=\"M 316 242 291 178\" stroke=\"gray\" stroke-width=\"3\"/>\n",
       "<path d=\"M 316 242 316 197\" stroke=\"gray\" stroke-width=\"3\"/>\n",
       "<path d=\"M 316 242 291 206\" stroke=\"gray\" stroke-width=\"3\"/>\n",
       "<path d=\"M 316 242 297 192\" stroke=\"gray\" stroke-width=\"3\"/>\n",
       "<path d=\"M 316 242 245 267\" stroke=\"gray\" stroke-width=\"3\"/>\n",
       "<path d=\"M 316 242 208 242\" stroke=\"gray\" stroke-width=\"3\"/>\n",
       "<path d=\"M 316 242 383 284\" stroke=\"gray\" stroke-width=\"3\"/>\n",
       "<path d=\"M 316 242 411 270\" stroke=\"gray\" stroke-width=\"3\"/>\n",
       "<path d=\"M 316 242 374 192\" stroke=\"gray\" stroke-width=\"3\"/>\n",
       "<path d=\"M 316 242 291 287\" stroke=\"gray\" stroke-width=\"3\"/>\n",
       "<path d=\"M 316 242 423 242\" stroke=\"gray\" stroke-width=\"3\"/>\n",
       "<path d=\"M 319 273 316 242\" stroke=\"gray\" stroke-width=\"3\"/>\n",
       "<path d=\"M 319 273 383 284\" stroke=\"gray\" stroke-width=\"3\"/>\n",
       "<path d=\"M 319 273 297 315\" stroke=\"gray\" stroke-width=\"3\"/>\n",
       "<path d=\"M 319 273 365 315\" stroke=\"gray\" stroke-width=\"3\"/>\n",
       "<path d=\"M 319 273 282 278\" stroke=\"gray\" stroke-width=\"3\"/>\n",
       "<path d=\"M 319 273 303 370\" stroke=\"gray\" stroke-width=\"3\"/>\n",
       "<path d=\"M 319 273 306 337\" stroke=\"gray\" stroke-width=\"3\"/>\n",
       "<path d=\"M 30 30 106 136\" stroke=\"blue\" stroke-width=\"3\"/>\n",
       "<path d=\"M 485 323 350 250\" stroke=\"blue\" stroke-width=\"3\"/>\n",
       "<path d=\"M 106 136 208 242\" stroke=\"blue\" stroke-width=\"3\"/>\n",
       "<path d=\"M 350 250 208 242\" stroke=\"blue\" stroke-width=\"3\"/>\n",
       "<path d=\"M 485 323 623 376\" stroke=\"blue\" stroke-width=\"3\"/>\n",
       "<circle cx=\"485\" cy=\"323\" r=\"7.0\" style=\"fill:gray;stroke:black;stroke-width:1.0\"/>\n",
       "<circle cx=\"623\" cy=\"376\" r=\"7.0\" style=\"fill:gray;stroke:black;stroke-width:1.0\"/>\n",
       "<circle cx=\"448\" cy=\"298\" r=\"7.0\" style=\"fill:gray;stroke:black;stroke-width:1.0\"/>\n",
       "<circle cx=\"445\" cy=\"309\" r=\"7.0\" style=\"fill:gray;stroke:black;stroke-width:1.0\"/>\n",
       "<circle cx=\"630\" cy=\"345\" r=\"7.0\" style=\"fill:gray;stroke:black;stroke-width:1.0\"/>\n",
       "<circle cx=\"605\" cy=\"404\" r=\"7.0\" style=\"fill:gray;stroke:black;stroke-width:1.0\"/>\n",
       "<circle cx=\"580\" cy=\"426\" r=\"7.0\" style=\"fill:gray;stroke:black;stroke-width:1.0\"/>\n",
       "<circle cx=\"550\" cy=\"440\" r=\"7.0\" style=\"fill:gray;stroke:black;stroke-width:1.0\"/>\n",
       "<circle cx=\"562\" cy=\"365\" r=\"7.0\" style=\"fill:gray;stroke:black;stroke-width:1.0\"/>\n",
       "<circle cx=\"630\" cy=\"312\" r=\"7.0\" style=\"fill:gray;stroke:black;stroke-width:1.0\"/>\n",
       "<circle cx=\"479\" cy=\"150\" r=\"7.0\" style=\"fill:gray;stroke:black;stroke-width:1.0\"/>\n",
       "<circle cx=\"350\" cy=\"250\" r=\"7.0\" style=\"fill:gray;stroke:black;stroke-width:1.0\"/>\n",
       "<circle cx=\"322\" cy=\"136\" r=\"7.0\" style=\"fill:gray;stroke:black;stroke-width:1.0\"/>\n",
       "<circle cx=\"411\" cy=\"382\" r=\"7.0\" style=\"fill:gray;stroke:black;stroke-width:1.0\"/>\n",
       "<circle cx=\"436\" cy=\"116\" r=\"7.0\" style=\"fill:gray;stroke:black;stroke-width:1.0\"/>\n",
       "<circle cx=\"448\" cy=\"359\" r=\"7.0\" style=\"fill:gray;stroke:black;stroke-width:1.0\"/>\n",
       "<circle cx=\"214\" cy=\"183\" r=\"7.0\" style=\"fill:gray;stroke:black;stroke-width:1.0\"/>\n",
       "<circle cx=\"180\" cy=\"155\" r=\"7.0\" style=\"fill:gray;stroke:black;stroke-width:1.0\"/>\n",
       "<circle cx=\"193\" cy=\"147\" r=\"7.0\" style=\"fill:gray;stroke:black;stroke-width:1.0\"/>\n",
       "<circle cx=\"180\" cy=\"169\" r=\"7.0\" style=\"fill:gray;stroke:black;stroke-width:1.0\"/>\n",
       "<circle cx=\"196\" cy=\"169\" r=\"7.0\" style=\"fill:gray;stroke:black;stroke-width:1.0\"/>\n",
       "<circle cx=\"208\" cy=\"158\" r=\"7.0\" style=\"fill:gray;stroke:black;stroke-width:1.0\"/>\n",
       "<circle cx=\"211\" cy=\"147\" r=\"7.0\" style=\"fill:gray;stroke:black;stroke-width:1.0\"/>\n",
       "<circle cx=\"260\" cy=\"203\" r=\"7.0\" style=\"fill:gray;stroke:black;stroke-width:1.0\"/>\n",
       "<circle cx=\"303\" cy=\"239\" r=\"7.0\" style=\"fill:gray;stroke:black;stroke-width:1.0\"/>\n",
       "<circle cx=\"310\" cy=\"220\" r=\"7.0\" style=\"fill:gray;stroke:black;stroke-width:1.0\"/>\n",
       "<circle cx=\"319\" cy=\"273\" r=\"7.0\" style=\"fill:gray;stroke:black;stroke-width:1.0\"/>\n",
       "<circle cx=\"316\" cy=\"242\" r=\"7.0\" style=\"fill:gray;stroke:black;stroke-width:1.0\"/>\n",
       "<circle cx=\"423\" cy=\"242\" r=\"7.0\" style=\"fill:gray;stroke:black;stroke-width:1.0\"/>\n",
       "<circle cx=\"374\" cy=\"192\" r=\"7.0\" style=\"fill:gray;stroke:black;stroke-width:1.0\"/>\n",
       "<circle cx=\"233\" cy=\"331\" r=\"7.0\" style=\"fill:gray;stroke:black;stroke-width:1.0\"/>\n",
       "<circle cx=\"291\" cy=\"287\" r=\"7.0\" style=\"fill:gray;stroke:black;stroke-width:1.0\"/>\n",
       "<circle cx=\"500\" cy=\"192\" r=\"7.0\" style=\"fill:gray;stroke:black;stroke-width:1.0\"/>\n",
       "<circle cx=\"411\" cy=\"270\" r=\"7.0\" style=\"fill:gray;stroke:black;stroke-width:1.0\"/>\n",
       "<circle cx=\"411\" cy=\"211\" r=\"7.0\" style=\"fill:gray;stroke:black;stroke-width:1.0\"/>\n",
       "<circle cx=\"402\" cy=\"194\" r=\"7.0\" style=\"fill:gray;stroke:black;stroke-width:1.0\"/>\n",
       "<circle cx=\"411\" cy=\"172\" r=\"7.0\" style=\"fill:gray;stroke:black;stroke-width:1.0\"/>\n",
       "<circle cx=\"436\" cy=\"200\" r=\"7.0\" style=\"fill:gray;stroke:black;stroke-width:1.0\"/>\n",
       "<circle cx=\"429\" cy=\"183\" r=\"7.0\" style=\"fill:gray;stroke:black;stroke-width:1.0\"/>\n",
       "<circle cx=\"334\" cy=\"359\" r=\"7.0\" style=\"fill:gray;stroke:black;stroke-width:1.0\"/>\n",
       "<circle cx=\"319\" cy=\"66\" r=\"7.0\" style=\"fill:gray;stroke:black;stroke-width:1.0\"/>\n",
       "<circle cx=\"266\" cy=\"228\" r=\"7.0\" style=\"fill:gray;stroke:black;stroke-width:1.0\"/>\n",
       "<circle cx=\"294\" cy=\"152\" r=\"7.0\" style=\"fill:gray;stroke:black;stroke-width:1.0\"/>\n",
       "<circle cx=\"383\" cy=\"284\" r=\"7.0\" style=\"fill:gray;stroke:black;stroke-width:1.0\"/>\n",
       "<circle cx=\"479\" cy=\"245\" r=\"7.0\" style=\"fill:gray;stroke:black;stroke-width:1.0\"/>\n",
       "<circle cx=\"537\" cy=\"225\" r=\"7.0\" style=\"fill:gray;stroke:black;stroke-width:1.0\"/>\n",
       "<circle cx=\"30\" cy=\"30\" r=\"7.0\" style=\"fill:gray;stroke:black;stroke-width:1.0\"/>\n",
       "<circle cx=\"106\" cy=\"136\" r=\"7.0\" style=\"fill:gray;stroke:black;stroke-width:1.0\"/>\n",
       "<circle cx=\"208\" cy=\"242\" r=\"7.0\" style=\"fill:gray;stroke:black;stroke-width:1.0\"/>\n",
       "<circle cx=\"297\" cy=\"315\" r=\"7.0\" style=\"fill:gray;stroke:black;stroke-width:1.0\"/>\n",
       "<circle cx=\"266\" cy=\"370\" r=\"7.0\" style=\"fill:gray;stroke:black;stroke-width:1.0\"/>\n",
       "<circle cx=\"306\" cy=\"337\" r=\"7.0\" style=\"fill:gray;stroke:black;stroke-width:1.0\"/>\n",
       "<circle cx=\"334\" cy=\"449\" r=\"7.0\" style=\"fill:gray;stroke:black;stroke-width:1.0\"/>\n",
       "<circle cx=\"285\" cy=\"480\" r=\"7.0\" style=\"fill:gray;stroke:black;stroke-width:1.0\"/>\n",
       "<circle cx=\"303\" cy=\"370\" r=\"7.0\" style=\"fill:gray;stroke:black;stroke-width:1.0\"/>\n",
       "<circle cx=\"282\" cy=\"278\" r=\"7.0\" style=\"fill:gray;stroke:black;stroke-width:1.0\"/>\n",
       "<circle cx=\"248\" cy=\"401\" r=\"7.0\" style=\"fill:gray;stroke:black;stroke-width:1.0\"/>\n",
       "<circle cx=\"174\" cy=\"306\" r=\"7.0\" style=\"fill:gray;stroke:black;stroke-width:1.0\"/>\n",
       "<circle cx=\"245\" cy=\"267\" r=\"7.0\" style=\"fill:gray;stroke:black;stroke-width:1.0\"/>\n",
       "<circle cx=\"220\" cy=\"284\" r=\"7.0\" style=\"fill:gray;stroke:black;stroke-width:1.0\"/>\n",
       "<circle cx=\"190\" cy=\"298\" r=\"7.0\" style=\"fill:gray;stroke:black;stroke-width:1.0\"/>\n",
       "<circle cx=\"202\" cy=\"270\" r=\"7.0\" style=\"fill:gray;stroke:black;stroke-width:1.0\"/>\n",
       "<circle cx=\"220\" cy=\"270\" r=\"7.0\" style=\"fill:gray;stroke:black;stroke-width:1.0\"/>\n",
       "<circle cx=\"193\" cy=\"278\" r=\"7.0\" style=\"fill:gray;stroke:black;stroke-width:1.0\"/>\n",
       "<circle cx=\"226\" cy=\"275\" r=\"7.0\" style=\"fill:gray;stroke:black;stroke-width:1.0\"/>\n",
       "<circle cx=\"205\" cy=\"289\" r=\"7.0\" style=\"fill:gray;stroke:black;stroke-width:1.0\"/>\n",
       "<circle cx=\"174\" cy=\"275\" r=\"7.0\" style=\"fill:gray;stroke:black;stroke-width:1.0\"/>\n",
       "<circle cx=\"94\" cy=\"357\" r=\"7.0\" style=\"fill:gray;stroke:black;stroke-width:1.0\"/>\n",
       "<circle cx=\"297\" cy=\"192\" r=\"7.0\" style=\"fill:gray;stroke:black;stroke-width:1.0\"/>\n",
       "<circle cx=\"291\" cy=\"206\" r=\"7.0\" style=\"fill:gray;stroke:black;stroke-width:1.0\"/>\n",
       "<circle cx=\"316\" cy=\"197\" r=\"7.0\" style=\"fill:gray;stroke:black;stroke-width:1.0\"/>\n",
       "<circle cx=\"291\" cy=\"178\" r=\"7.0\" style=\"fill:gray;stroke:black;stroke-width:1.0\"/>\n",
       "<circle cx=\"365\" cy=\"315\" r=\"7.0\" style=\"fill:gray;stroke:black;stroke-width:1.0\"/>\n",
       "<circle cx=\"88\" cy=\"242\" r=\"7.0\" style=\"fill:gray;stroke:black;stroke-width:1.0\"/>\n",
       "<circle cx=\"91\" cy=\"220\" r=\"7.0\" style=\"fill:gray;stroke:black;stroke-width:1.0\"/>\n",
       "<circle cx=\"266\" cy=\"175\" r=\"7.0\" style=\"fill:gray;stroke:black;stroke-width:1.0\"/>\n",
       "<circle cx=\"143\" cy=\"287\" r=\"7.0\" style=\"fill:gray;stroke:black;stroke-width:1.0\"/>\n",
       "<text font-size=\"12\" x=\"495\" y=\"330\">Myriel</text><text font-size=\"12\" x=\"633\" y=\"383\">Napoleon</text><text font-size=\"12\" x=\"458\" y=\"305\">Mlle Baptistine</text><text font-size=\"12\" x=\"455\" y=\"316\">Mme Magloire</text><text font-size=\"12\" x=\"640\" y=\"352\">Countess de Lo</text><text font-size=\"12\" x=\"615\" y=\"411\">Geborand</text><text font-size=\"12\" x=\"590\" y=\"433\">Champtercier</text><text font-size=\"12\" x=\"560\" y=\"447\">Cravatte</text><text font-size=\"12\" x=\"572\" y=\"372\">Count</text><text font-size=\"12\" x=\"640\" y=\"319\">Old man</text><text font-size=\"12\" x=\"489\" y=\"157\">Labarre</text><text font-size=\"12\" x=\"360\" y=\"257\">Valjean</text><text font-size=\"12\" x=\"332\" y=\"143\">Marguerite</text><text font-size=\"12\" x=\"421\" y=\"389\">Mme Der</text><text font-size=\"12\" x=\"446\" y=\"123\">Isabeau</text><text font-size=\"12\" x=\"458\" y=\"366\">Gervais</text><text font-size=\"12\" x=\"224\" y=\"190\">Tholomyes</text><text font-size=\"12\" x=\"190\" y=\"162\">Listolier</text><text font-size=\"12\" x=\"203\" y=\"154\">Fameuil</text><text font-size=\"12\" x=\"190\" y=\"176\">Blacheville</text><text font-size=\"12\" x=\"206\" y=\"176\">Favourite</text><text font-size=\"12\" x=\"218\" y=\"165\">Dahlia</text><text font-size=\"12\" x=\"221\" y=\"154\">Zephine</text><text font-size=\"12\" x=\"270\" y=\"210\">Fantine</text><text font-size=\"12\" x=\"313\" y=\"246\">Mme Thenardier</text><text font-size=\"12\" x=\"320\" y=\"227\">Thenardier</text><text font-size=\"12\" x=\"329\" y=\"280\">Cosette</text><text font-size=\"12\" x=\"326\" y=\"249\">Javert</text><text font-size=\"12\" x=\"433\" y=\"249\">Fauchelevent</text><text font-size=\"12\" x=\"384\" y=\"199\">Bamatabois</text><text font-size=\"12\" x=\"243\" y=\"338\">Perpetue</text><text font-size=\"12\" x=\"301\" y=\"294\">Simplice</text><text font-size=\"12\" x=\"510\" y=\"199\">Scaufflaire</text><text font-size=\"12\" x=\"421\" y=\"277\">Woman1</text><text font-size=\"12\" x=\"421\" y=\"218\">Judge</text><text font-size=\"12\" x=\"412\" y=\"201\">Champmathieu</text><text font-size=\"12\" x=\"421\" y=\"179\">Brevet</text><text font-size=\"12\" x=\"446\" y=\"207\">Chenildieu</text><text font-size=\"12\" x=\"439\" y=\"190\">Cochepaille</text><text font-size=\"12\" x=\"344\" y=\"366\">Pontmercy</text><text font-size=\"12\" x=\"329\" y=\"73\">Boulatruelle</text><text font-size=\"12\" x=\"276\" y=\"235\">Eponine</text><text font-size=\"12\" x=\"304\" y=\"159\">Anzelma</text><text font-size=\"12\" x=\"393\" y=\"291\">Woman2</text><text font-size=\"12\" x=\"489\" y=\"252\">Mother Innocent</text><text font-size=\"12\" x=\"547\" y=\"232\">Gribier</text><text font-size=\"12\" x=\"40\" y=\"37\">Jondrette</text><text font-size=\"12\" x=\"116\" y=\"143\">Mme Burgon</text><text font-size=\"12\" x=\"218\" y=\"249\">Gavroche</text><text font-size=\"12\" x=\"307\" y=\"322\">Gillenormand</text><text font-size=\"12\" x=\"276\" y=\"377\">Magnon</text><text font-size=\"12\" x=\"316\" y=\"344\">Mlle Gillenormand</text><text font-size=\"12\" x=\"344\" y=\"456\">Mme Pontmercy</text><text font-size=\"12\" x=\"295\" y=\"487\">Mlle Vaubois</text><text font-size=\"12\" x=\"313\" y=\"377\">Lt Gillenormand</text><text font-size=\"12\" x=\"292\" y=\"285\">Marius</text><text font-size=\"12\" x=\"258\" y=\"408\">Baroness</text><text font-size=\"12\" x=\"184\" y=\"313\">Mabeuf</text><text font-size=\"12\" x=\"255\" y=\"274\">Enjolras</text><text font-size=\"12\" x=\"230\" y=\"291\">Combeferre</text><text font-size=\"12\" x=\"200\" y=\"305\">Prouvaire</text><text font-size=\"12\" x=\"212\" y=\"277\">Feuilly</text><text font-size=\"12\" x=\"230\" y=\"277\">Courfeyrac</text><text font-size=\"12\" x=\"203\" y=\"285\">Bahorel</text><text font-size=\"12\" x=\"236\" y=\"282\">Bossuet</text><text font-size=\"12\" x=\"215\" y=\"296\">Joly</text><text font-size=\"12\" x=\"184\" y=\"282\">Grantaire</text><text font-size=\"12\" x=\"104\" y=\"364\">MotherPlutarch</text><text font-size=\"12\" x=\"307\" y=\"199\">Gueulemer</text><text font-size=\"12\" x=\"301\" y=\"213\">Babet</text><text font-size=\"12\" x=\"326\" y=\"204\">Claquesous</text><text font-size=\"12\" x=\"301\" y=\"185\">Montparnasse</text><text font-size=\"12\" x=\"375\" y=\"322\">Toussaint</text><text font-size=\"12\" x=\"98\" y=\"249\">Child1</text><text font-size=\"12\" x=\"101\" y=\"227\">Child2</text><text font-size=\"12\" x=\"276\" y=\"182\">Brujon</text><text font-size=\"12\" x=\"153\" y=\"294\">Mme Hucheloup</text></svg>"
      ],
      "text/plain": [
       "<IPython.core.display.SVG object>"
      ]
     },
     "execution_count": 11,
     "metadata": {},
     "output_type": "execute_result"
    }
   ],
   "source": [
    "SVG(image)"
   ]
  },
  {
   "cell_type": "markdown",
   "metadata": {},
   "source": [
    "## Digraphs"
   ]
  },
  {
   "cell_type": "code",
   "execution_count": 12,
   "metadata": {
    "ExecuteTime": {
     "end_time": "2019-07-15T12:29:58.542147Z",
     "start_time": "2019-07-15T12:29:58.529699Z"
    }
   },
   "outputs": [],
   "source": [
    "graph = painters(metadata=True)\n",
    "adjacency = graph.adjacency\n",
    "names = graph.names\n",
    "position = graph.position"
   ]
  },
  {
   "cell_type": "code",
   "execution_count": 13,
   "metadata": {},
   "outputs": [],
   "source": [
    "klimt = 6\n",
    "vinci = 9"
   ]
  },
  {
   "cell_type": "code",
   "execution_count": 14,
   "metadata": {},
   "outputs": [],
   "source": [
    "path = shortest_path(adjacency, sources=klimt, targets=vinci)"
   ]
  },
  {
   "cell_type": "code",
   "execution_count": 15,
   "metadata": {},
   "outputs": [],
   "source": [
    "edge_labels = [(path[k], path[k + 1], 0) for k in range(len(path) - 1)]"
   ]
  },
  {
   "cell_type": "code",
   "execution_count": 16,
   "metadata": {
    "scrolled": true
   },
   "outputs": [],
   "source": [
    "image = svg_digraph(adjacency, position, names, edge_labels=edge_labels, edge_width=2)"
   ]
  },
  {
   "cell_type": "code",
   "execution_count": 17,
   "metadata": {},
   "outputs": [
    {
     "data": {
      "image/svg+xml": [
       "<svg height=\"340\" width=\"566.0\" xmlns=\"http://www.w3.org/2000/svg\">\n",
       "<defs><marker id=\"arrow\" markerHeight=\"10\" markerWidth=\"10\" orient=\"auto\" refX=\"9\" refY=\"3\">\n",
       "<path d=\"M0,0 L0,6 L9,3 z\" fill=\"None\"/></marker></defs>\n",
       "<path d=\"M 247 48 77 64\" marker-end=\"url(#arrow)\" stroke=\"gray\" stroke-width=\"2\"/>\n",
       "<path d=\"M 205 140 26 109\" marker-end=\"url(#arrow)\" stroke=\"gray\" stroke-width=\"2\"/>\n",
       "<path d=\"M 205 140 208 251\" marker-end=\"url(#arrow)\" stroke=\"gray\" stroke-width=\"2\"/>\n",
       "<path d=\"M 205 140 61 162\" marker-end=\"url(#arrow)\" stroke=\"gray\" stroke-width=\"2\"/>\n",
       "<path d=\"M 205 140 167 61\" marker-end=\"url(#arrow)\" stroke=\"gray\" stroke-width=\"2\"/>\n",
       "<path d=\"M 205 140 137 95\" marker-end=\"url(#arrow)\" stroke=\"gray\" stroke-width=\"2\"/>\n",
       "<path d=\"M 151 320 79 271\" marker-end=\"url(#arrow)\" stroke=\"gray\" stroke-width=\"2\"/>\n",
       "<path d=\"M 151 320 144 233\" marker-end=\"url(#arrow)\" stroke=\"gray\" stroke-width=\"2\"/>\n",
       "<path d=\"M 164 55 241 48\" marker-end=\"url(#arrow)\" stroke=\"gray\" stroke-width=\"2\"/>\n",
       "<path d=\"M 164 55 77 64\" marker-end=\"url(#arrow)\" stroke=\"gray\" stroke-width=\"2\"/>\n",
       "<path d=\"M 164 55 202 134\" marker-end=\"url(#arrow)\" stroke=\"gray\" stroke-width=\"2\"/>\n",
       "<path d=\"M 164 55 136 87\" marker-end=\"url(#arrow)\" stroke=\"gray\" stroke-width=\"2\"/>\n",
       "<path d=\"M 164 55 97 126\" marker-end=\"url(#arrow)\" stroke=\"gray\" stroke-width=\"2\"/>\n",
       "<path d=\"M 132 92 241 50\" marker-end=\"url(#arrow)\" stroke=\"gray\" stroke-width=\"2\"/>\n",
       "<path d=\"M 132 92 26 108\" marker-end=\"url(#arrow)\" stroke=\"gray\" stroke-width=\"2\"/>\n",
       "<path d=\"M 132 92 77 66\" marker-end=\"url(#arrow)\" stroke=\"gray\" stroke-width=\"2\"/>\n",
       "<path d=\"M 132 92 160 60\" marker-end=\"url(#arrow)\" stroke=\"gray\" stroke-width=\"2\"/>\n",
       "<path d=\"M 132 92 97 127\" marker-end=\"url(#arrow)\" stroke=\"gray\" stroke-width=\"2\"/>\n",
       "<path d=\"M 93 131 26 110\" marker-end=\"url(#arrow)\" stroke=\"gray\" stroke-width=\"2\"/>\n",
       "<path d=\"M 93 131 73 70\" marker-end=\"url(#arrow)\" stroke=\"gray\" stroke-width=\"2\"/>\n",
       "<path d=\"M 93 131 141 221\" marker-end=\"url(#arrow)\" stroke=\"gray\" stroke-width=\"2\"/>\n",
       "<path d=\"M 93 131 60 158\" marker-end=\"url(#arrow)\" stroke=\"gray\" stroke-width=\"2\"/>\n",
       "<path d=\"M 205 140 245 54\" marker-end=\"url(#arrow)\" stroke=\"gray\" stroke-width=\"2\"/>\n",
       "<path d=\"M 404 94 419 26\" marker-end=\"url(#arrow)\" stroke=\"gray\" stroke-width=\"2\"/>\n",
       "<path d=\"M 55 162 88 135\" marker-end=\"url(#arrow)\" stroke=\"gray\" stroke-width=\"2\"/>\n",
       "<path d=\"M 55 162 199 140\" marker-end=\"url(#arrow)\" stroke=\"gray\" stroke-width=\"2\"/>\n",
       "<path d=\"M 247 48 170 55\" marker-end=\"url(#arrow)\" stroke=\"gray\" stroke-width=\"2\"/>\n",
       "<path d=\"M 20 108 66 68\" marker-end=\"url(#arrow)\" stroke=\"gray\" stroke-width=\"2\"/>\n",
       "<path d=\"M 20 108 87 129\" marker-end=\"url(#arrow)\" stroke=\"gray\" stroke-width=\"2\"/>\n",
       "<path d=\"M 74 268 146 317\" marker-end=\"url(#arrow)\" stroke=\"gray\" stroke-width=\"2\"/>\n",
       "<path d=\"M 71 64 241 48\" marker-end=\"url(#arrow)\" stroke=\"gray\" stroke-width=\"2\"/>\n",
       "<path d=\"M 71 64 25 104\" marker-end=\"url(#arrow)\" stroke=\"gray\" stroke-width=\"2\"/>\n",
       "<path d=\"M 71 64 56 156\" marker-end=\"url(#arrow)\" stroke=\"gray\" stroke-width=\"2\"/>\n",
       "<path d=\"M 71 64 126 90\" marker-end=\"url(#arrow)\" stroke=\"gray\" stroke-width=\"2\"/>\n",
       "<path d=\"M 71 64 91 125\" marker-end=\"url(#arrow)\" stroke=\"gray\" stroke-width=\"2\"/>\n",
       "<path d=\"M 144 227 80 265\" marker-end=\"url(#arrow)\" stroke=\"gray\" stroke-width=\"2\"/>\n",
       "<path d=\"M 55 162 127 96\" marker-end=\"url(#arrow)\" stroke=\"gray\" stroke-width=\"2\"/>\n",
       "<path d=\"M 144 227 202 255\" marker-end=\"url(#arrow)\" stroke=\"gray\" stroke-width=\"2\"/>\n",
       "<path d=\"M 208 257 80 268\" marker-end=\"url(#arrow)\" stroke=\"gray\" stroke-width=\"2\"/>\n",
       "<path d=\"M 208 257 150 229\" marker-end=\"url(#arrow)\" stroke=\"gray\" stroke-width=\"2\"/>\n",
       "<path d=\"M 208 257 205 146\" marker-end=\"url(#arrow)\" stroke=\"gray\" stroke-width=\"2\"/>\n",
       "<path d=\"M 208 257 155 315\" marker-end=\"url(#arrow)\" stroke=\"gray\" stroke-width=\"2\"/>\n",
       "<path d=\"M 420 20 253 47\" marker-end=\"url(#arrow)\" stroke=\"gray\" stroke-width=\"2\"/>\n",
       "<path d=\"M 55 162 23 113\" marker-end=\"url(#arrow)\" stroke=\"gray\" stroke-width=\"2\"/>\n",
       "<path d=\"M 55 162 73 262\" marker-end=\"url(#arrow)\" stroke=\"gray\" stroke-width=\"2\"/>\n",
       "<path d=\"M 55 162 70 70\" marker-end=\"url(#arrow)\" stroke=\"gray\" stroke-width=\"2\"/>\n",
       "<path d=\"M 420 20 405 88\" marker-end=\"url(#arrow)\" stroke=\"blue\" stroke-width=\"2\"/>\n",
       "<path d=\"M 205 140 148 222\" marker-end=\"url(#arrow)\" stroke=\"blue\" stroke-width=\"2\"/>\n",
       "<path d=\"M 144 227 151 314\" marker-end=\"url(#arrow)\" stroke=\"blue\" stroke-width=\"2\"/>\n",
       "<path d=\"M 404 94 211 139\" marker-end=\"url(#arrow)\" stroke=\"blue\" stroke-width=\"2\"/>\n",
       "<circle cx=\"247\" cy=\"48\" r=\"7.0\" style=\"fill:gray;stroke:black;stroke-width:1.0\"/>\n",
       "<circle cx=\"20\" cy=\"108\" r=\"7.0\" style=\"fill:gray;stroke:black;stroke-width:1.0\"/>\n",
       "<circle cx=\"74\" cy=\"268\" r=\"7.0\" style=\"fill:gray;stroke:black;stroke-width:1.0\"/>\n",
       "<circle cx=\"71\" cy=\"64\" r=\"7.0\" style=\"fill:gray;stroke:black;stroke-width:1.0\"/>\n",
       "<circle cx=\"144\" cy=\"227\" r=\"7.0\" style=\"fill:gray;stroke:black;stroke-width:1.0\"/>\n",
       "<circle cx=\"208\" cy=\"257\" r=\"7.0\" style=\"fill:gray;stroke:black;stroke-width:1.0\"/>\n",
       "<circle cx=\"420\" cy=\"20\" r=\"7.0\" style=\"fill:gray;stroke:black;stroke-width:1.0\"/>\n",
       "<circle cx=\"55\" cy=\"162\" r=\"7.0\" style=\"fill:gray;stroke:black;stroke-width:1.0\"/>\n",
       "<circle cx=\"205\" cy=\"140\" r=\"7.0\" style=\"fill:gray;stroke:black;stroke-width:1.0\"/>\n",
       "<circle cx=\"151\" cy=\"320\" r=\"7.0\" style=\"fill:gray;stroke:black;stroke-width:1.0\"/>\n",
       "<circle cx=\"164\" cy=\"55\" r=\"7.0\" style=\"fill:gray;stroke:black;stroke-width:1.0\"/>\n",
       "<circle cx=\"132\" cy=\"92\" r=\"7.0\" style=\"fill:gray;stroke:black;stroke-width:1.0\"/>\n",
       "<circle cx=\"93\" cy=\"131\" r=\"7.0\" style=\"fill:gray;stroke:black;stroke-width:1.0\"/>\n",
       "<circle cx=\"404\" cy=\"94\" r=\"7.0\" style=\"fill:gray;stroke:black;stroke-width:1.0\"/>\n",
       "<text font-size=\"12\" x=\"264\" y=\"55\">Pablo Picasso</text><text font-size=\"12\" x=\"37\" y=\"115\">Claude Monet</text><text font-size=\"12\" x=\"91\" y=\"275\">Michel Angelo</text><text font-size=\"12\" x=\"88\" y=\"71\">Edouard Manet</text><text font-size=\"12\" x=\"161\" y=\"234\">Peter Paul Rubens</text><text font-size=\"12\" x=\"225\" y=\"264\">Rembrandt</text><text font-size=\"12\" x=\"437\" y=\"27\">Gustav Klimt</text><text font-size=\"12\" x=\"72\" y=\"169\">Edgar Degas</text><text font-size=\"12\" x=\"222\" y=\"147\">Vincent van Gogh</text><text font-size=\"12\" x=\"168\" y=\"327\">Leonardo da Vinci</text><text font-size=\"12\" x=\"181\" y=\"62\">Henri Matisse</text><text font-size=\"12\" x=\"149\" y=\"99\">Paul Cezanne</text><text font-size=\"12\" x=\"110\" y=\"138\">Pierre-Auguste Renoir</text><text font-size=\"12\" x=\"421\" y=\"101\">Egon Schiele</text></svg>"
      ],
      "text/plain": [
       "<IPython.core.display.SVG object>"
      ]
     },
     "execution_count": 17,
     "metadata": {},
     "output_type": "execute_result"
    }
   ],
   "source": [
    "SVG(image)"
   ]
  },
  {
   "cell_type": "markdown",
   "metadata": {},
   "source": [
    "## Bigraphs"
   ]
  },
  {
   "cell_type": "code",
   "execution_count": 44,
   "metadata": {},
   "outputs": [],
   "source": [
    "graph = movie_actor(metadata=True)\n",
    "biadjacency = graph.biadjacency\n",
    "names_row = graph.names_row\n",
    "names_col = graph.names_col"
   ]
  },
  {
   "cell_type": "code",
   "execution_count": 45,
   "metadata": {},
   "outputs": [],
   "source": [
    "adjacency = bipartite2undirected(biadjacency)"
   ]
  },
  {
   "cell_type": "code",
   "execution_count": 46,
   "metadata": {},
   "outputs": [],
   "source": [
    "n_row, _ = biadjacency.shape"
   ]
  },
  {
   "cell_type": "code",
   "execution_count": 71,
   "metadata": {},
   "outputs": [],
   "source": [
    "seydoux = 9\n",
    "lewitt = 2"
   ]
  },
  {
   "cell_type": "code",
   "execution_count": 72,
   "metadata": {},
   "outputs": [],
   "source": [
    "path = shortest_path(adjacency, sources=seydoux + n_row, targets=lewitt + n_row)"
   ]
  },
  {
   "cell_type": "code",
   "execution_count": 73,
   "metadata": {},
   "outputs": [],
   "source": [
    "edge_labels = []\n",
    "labels_row = {}\n",
    "labels_col = {}\n",
    "for k in range(len(path) - 1):\n",
    "    i = path[k]\n",
    "    j = path[k + 1]\n",
    "    # row first\n",
    "    if i > j:\n",
    "        i, j = j, i\n",
    "    j -= n_row\n",
    "    labels_row[i] = 0\n",
    "    labels_col[j] = 0\n",
    "    edge_labels.append((i, j, 0))"
   ]
  },
  {
   "cell_type": "code",
   "execution_count": 74,
   "metadata": {},
   "outputs": [],
   "source": [
    "image = svg_bigraph(biadjacency, names_row, names_col, labels_row, labels_col, \n",
    "                    edge_labels=edge_labels, edge_color='gray', edge_width=3)"
   ]
  },
  {
   "cell_type": "code",
   "execution_count": 75,
   "metadata": {},
   "outputs": [
    {
     "data": {
      "image/svg+xml": [
       "<svg height=\"340\" width=\"728.0\" xmlns=\"http://www.w3.org/2000/svg\">\n",
       "<path d=\"M 188 89 588 140\" stroke=\"gray\" stroke-width=\"3\"/>\n",
       "<path d=\"M 188 89 588 59\" stroke=\"blue\" stroke-width=\"3\"/>\n",
       "<path d=\"M 188 89 588 40\" stroke=\"blue\" stroke-width=\"3\"/>\n",
       "<path d=\"M 188 69 588 59\" stroke=\"gray\" stroke-width=\"3\"/>\n",
       "<path d=\"M 188 69 588 40\" stroke=\"gray\" stroke-width=\"3\"/>\n",
       "<path d=\"M 188 69 588 220\" stroke=\"gray\" stroke-width=\"3\"/>\n",
       "<path d=\"M 188 230 588 220\" stroke=\"gray\" stroke-width=\"3\"/>\n",
       "<path d=\"M 188 230 588 200\" stroke=\"gray\" stroke-width=\"3\"/>\n",
       "<path d=\"M 188 230 588 320\" stroke=\"gray\" stroke-width=\"3\"/>\n",
       "<path d=\"M 188 230 588 160\" stroke=\"gray\" stroke-width=\"3\"/>\n",
       "<path d=\"M 188 49 588 200\" stroke=\"gray\" stroke-width=\"3\"/>\n",
       "<path d=\"M 188 49 588 20\" stroke=\"gray\" stroke-width=\"3\"/>\n",
       "<path d=\"M 188 30 588 140\" stroke=\"gray\" stroke-width=\"3\"/>\n",
       "<path d=\"M 188 30 588 20\" stroke=\"gray\" stroke-width=\"3\"/>\n",
       "<path d=\"M 188 210 588 200\" stroke=\"gray\" stroke-width=\"3\"/>\n",
       "<path d=\"M 188 210 588 180\" stroke=\"gray\" stroke-width=\"3\"/>\n",
       "<path d=\"M 188 190 588 200\" stroke=\"gray\" stroke-width=\"3\"/>\n",
       "<path d=\"M 188 190 588 180\" stroke=\"gray\" stroke-width=\"3\"/>\n",
       "<path d=\"M 188 190 588 160\" stroke=\"gray\" stroke-width=\"3\"/>\n",
       "<path d=\"M 188 170 588 220\" stroke=\"gray\" stroke-width=\"3\"/>\n",
       "<path d=\"M 188 170 588 160\" stroke=\"gray\" stroke-width=\"3\"/>\n",
       "<path d=\"M 188 310 588 300\" stroke=\"gray\" stroke-width=\"3\"/>\n",
       "<path d=\"M 188 310 588 280\" stroke=\"gray\" stroke-width=\"3\"/>\n",
       "<path d=\"M 188 310 588 120\" stroke=\"gray\" stroke-width=\"3\"/>\n",
       "<path d=\"M 188 310 588 100\" stroke=\"gray\" stroke-width=\"3\"/>\n",
       "<path d=\"M 188 310 588 240\" stroke=\"gray\" stroke-width=\"3\"/>\n",
       "<path d=\"M 188 150 588 140\" stroke=\"gray\" stroke-width=\"3\"/>\n",
       "<path d=\"M 188 150 588 120\" stroke=\"gray\" stroke-width=\"3\"/>\n",
       "<path d=\"M 188 150 588 100\" stroke=\"gray\" stroke-width=\"3\"/>\n",
       "<path d=\"M 188 290 588 300\" stroke=\"gray\" stroke-width=\"3\"/>\n",
       "<path d=\"M 188 290 588 280\" stroke=\"gray\" stroke-width=\"3\"/>\n",
       "<path d=\"M 188 290 588 260\" stroke=\"gray\" stroke-width=\"3\"/>\n",
       "<path d=\"M 188 270 588 320\" stroke=\"gray\" stroke-width=\"3\"/>\n",
       "<path d=\"M 188 270 588 300\" stroke=\"gray\" stroke-width=\"3\"/>\n",
       "<path d=\"M 188 270 588 260\" stroke=\"gray\" stroke-width=\"3\"/>\n",
       "<path d=\"M 188 249 588 59\" stroke=\"blue\" stroke-width=\"3\"/>\n",
       "<path d=\"M 188 249 588 300\" stroke=\"blue\" stroke-width=\"3\"/>\n",
       "<path d=\"M 188 249 588 240\" stroke=\"gray\" stroke-width=\"3\"/>\n",
       "<path d=\"M 188 130 588 100\" stroke=\"gray\" stroke-width=\"3\"/>\n",
       "<path d=\"M 188 130 588 79\" stroke=\"gray\" stroke-width=\"3\"/>\n",
       "<path d=\"M 188 110 588 120\" stroke=\"gray\" stroke-width=\"3\"/>\n",
       "<path d=\"M 188 110 588 79\" stroke=\"gray\" stroke-width=\"3\"/>\n",
       "<circle cx=\"188\" cy=\"89\" r=\"7.0\" style=\"fill:blue;stroke:black;stroke-width:1.0\"/>\n",
       "<circle cx=\"188\" cy=\"69\" r=\"7.0\" style=\"fill:gray;stroke:black;stroke-width:1.0\"/>\n",
       "<circle cx=\"188\" cy=\"230\" r=\"7.0\" style=\"fill:gray;stroke:black;stroke-width:1.0\"/>\n",
       "<circle cx=\"188\" cy=\"49\" r=\"7.0\" style=\"fill:gray;stroke:black;stroke-width:1.0\"/>\n",
       "<circle cx=\"188\" cy=\"30\" r=\"7.0\" style=\"fill:gray;stroke:black;stroke-width:1.0\"/>\n",
       "<circle cx=\"188\" cy=\"210\" r=\"7.0\" style=\"fill:gray;stroke:black;stroke-width:1.0\"/>\n",
       "<circle cx=\"188\" cy=\"190\" r=\"7.0\" style=\"fill:gray;stroke:black;stroke-width:1.0\"/>\n",
       "<circle cx=\"188\" cy=\"170\" r=\"7.0\" style=\"fill:gray;stroke:black;stroke-width:1.0\"/>\n",
       "<circle cx=\"188\" cy=\"310\" r=\"7.0\" style=\"fill:gray;stroke:black;stroke-width:1.0\"/>\n",
       "<circle cx=\"188\" cy=\"150\" r=\"7.0\" style=\"fill:gray;stroke:black;stroke-width:1.0\"/>\n",
       "<circle cx=\"188\" cy=\"290\" r=\"7.0\" style=\"fill:gray;stroke:black;stroke-width:1.0\"/>\n",
       "<circle cx=\"188\" cy=\"270\" r=\"7.0\" style=\"fill:gray;stroke:black;stroke-width:1.0\"/>\n",
       "<circle cx=\"188\" cy=\"249\" r=\"7.0\" style=\"fill:blue;stroke:black;stroke-width:1.0\"/>\n",
       "<circle cx=\"188\" cy=\"130\" r=\"7.0\" style=\"fill:gray;stroke:black;stroke-width:1.0\"/>\n",
       "<circle cx=\"188\" cy=\"110\" r=\"7.0\" style=\"fill:gray;stroke:black;stroke-width:1.0\"/>\n",
       "<circle cx=\"588\" cy=\"140\" r=\"7.0\" style=\"fill:gray;stroke:black;stroke-width:1.0\"/>\n",
       "<circle cx=\"588\" cy=\"59\" r=\"7.0\" style=\"fill:blue;stroke:black;stroke-width:1.0\"/>\n",
       "<circle cx=\"588\" cy=\"40\" r=\"7.0\" style=\"fill:blue;stroke:black;stroke-width:1.0\"/>\n",
       "<circle cx=\"588\" cy=\"220\" r=\"7.0\" style=\"fill:gray;stroke:black;stroke-width:1.0\"/>\n",
       "<circle cx=\"588\" cy=\"200\" r=\"7.0\" style=\"fill:gray;stroke:black;stroke-width:1.0\"/>\n",
       "<circle cx=\"588\" cy=\"320\" r=\"7.0\" style=\"fill:gray;stroke:black;stroke-width:1.0\"/>\n",
       "<circle cx=\"588\" cy=\"20\" r=\"7.0\" style=\"fill:gray;stroke:black;stroke-width:1.0\"/>\n",
       "<circle cx=\"588\" cy=\"180\" r=\"7.0\" style=\"fill:gray;stroke:black;stroke-width:1.0\"/>\n",
       "<circle cx=\"588\" cy=\"160\" r=\"7.0\" style=\"fill:gray;stroke:black;stroke-width:1.0\"/>\n",
       "<circle cx=\"588\" cy=\"300\" r=\"7.0\" style=\"fill:blue;stroke:black;stroke-width:1.0\"/>\n",
       "<circle cx=\"588\" cy=\"280\" r=\"7.0\" style=\"fill:gray;stroke:black;stroke-width:1.0\"/>\n",
       "<circle cx=\"588\" cy=\"120\" r=\"7.0\" style=\"fill:gray;stroke:black;stroke-width:1.0\"/>\n",
       "<circle cx=\"588\" cy=\"100\" r=\"7.0\" style=\"fill:gray;stroke:black;stroke-width:1.0\"/>\n",
       "<circle cx=\"588\" cy=\"260\" r=\"7.0\" style=\"fill:gray;stroke:black;stroke-width:1.0\"/>\n",
       "<circle cx=\"588\" cy=\"79\" r=\"7.0\" style=\"fill:gray;stroke:black;stroke-width:1.0\"/>\n",
       "<circle cx=\"588\" cy=\"240\" r=\"7.0\" style=\"fill:gray;stroke:black;stroke-width:1.0\"/>\n",
       "<text font-size=\"12\" text-anchor=\"end\" x=\"178\" y=\"89\">Inception</text><text font-size=\"12\" text-anchor=\"end\" x=\"178\" y=\"69\">The Dark Knight Rises</text><text font-size=\"12\" text-anchor=\"end\" x=\"178\" y=\"230\">The Big Short</text><text font-size=\"12\" text-anchor=\"end\" x=\"178\" y=\"49\">Drive</text><text font-size=\"12\" text-anchor=\"end\" x=\"178\" y=\"30\">The Great Gatsby</text><text font-size=\"12\" text-anchor=\"end\" x=\"178\" y=\"210\">La La Land</text><text font-size=\"12\" text-anchor=\"end\" x=\"178\" y=\"190\">Crazy Stupid Love</text><text font-size=\"12\" text-anchor=\"end\" x=\"178\" y=\"170\">Vice</text><text font-size=\"12\" text-anchor=\"end\" x=\"178\" y=\"310\">The Grand Budapest Hotel</text><text font-size=\"12\" text-anchor=\"end\" x=\"178\" y=\"150\">Aviator</text><text font-size=\"12\" text-anchor=\"end\" x=\"178\" y=\"290\">007 Spectre</text><text font-size=\"12\" text-anchor=\"end\" x=\"178\" y=\"270\">Inglourious Basterds</text><text font-size=\"12\" text-anchor=\"end\" x=\"178\" y=\"249\">Midnight In Paris</text><text font-size=\"12\" text-anchor=\"end\" x=\"178\" y=\"130\">Murder on the Orient Express</text><text font-size=\"12\" text-anchor=\"end\" x=\"178\" y=\"110\">Fantastic Beasts 2</text><text font-size=\"12\" x=\"598\" y=\"140\">Leonardo DiCaprio</text><text font-size=\"12\" x=\"598\" y=\"59\">Marion Cotillard</text><text font-size=\"12\" x=\"598\" y=\"40\">Joseph Gordon Lewitt</text><text font-size=\"12\" x=\"598\" y=\"220\">Christian Bale</text><text font-size=\"12\" x=\"598\" y=\"200\">Ryan Gosling</text><text font-size=\"12\" x=\"598\" y=\"320\">Brad Pitt</text><text font-size=\"12\" x=\"598\" y=\"20\">Carey Mulligan</text><text font-size=\"12\" x=\"598\" y=\"180\">Emma Stone</text><text font-size=\"12\" x=\"598\" y=\"160\">Steve Carell</text><text font-size=\"12\" x=\"598\" y=\"300\">Lea Seydoux</text><text font-size=\"12\" x=\"598\" y=\"280\">Ralph Fiennes</text><text font-size=\"12\" x=\"598\" y=\"120\">Jude Law</text><text font-size=\"12\" x=\"598\" y=\"100\">Willem Dafoe</text><text font-size=\"12\" x=\"598\" y=\"260\">Christophe Waltz</text><text font-size=\"12\" x=\"598\" y=\"79\">Johnny Depp</text><text font-size=\"12\" x=\"598\" y=\"240\">Owen Wilson</text></svg>"
      ],
      "text/plain": [
       "<IPython.core.display.SVG object>"
      ]
     },
     "execution_count": 75,
     "metadata": {},
     "output_type": "execute_result"
    }
   ],
   "source": [
    "SVG(image)"
   ]
  }
 ],
 "metadata": {
  "kernelspec": {
   "display_name": "Python 3",
   "language": "python",
   "name": "python3"
  },
  "language_info": {
   "codemirror_mode": {
    "name": "ipython",
    "version": 3
   },
   "file_extension": ".py",
   "mimetype": "text/x-python",
   "name": "python",
   "nbconvert_exporter": "python",
   "pygments_lexer": "ipython3",
   "version": "3.7.7"
  },
  "toc": {
   "base_numbering": 1,
   "nav_menu": {},
   "number_sections": true,
   "sideBar": true,
   "skip_h1_title": false,
   "title_cell": "Table of Contents",
   "title_sidebar": "Contents",
   "toc_cell": false,
   "toc_position": {},
   "toc_section_display": true,
   "toc_window_display": false
  }
 },
 "nbformat": 4,
 "nbformat_minor": 2
}
